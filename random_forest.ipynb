{
 "cells": [
  {
   "cell_type": "code",
   "execution_count": 1,
   "metadata": {
    "collapsed": false
   },
   "outputs": [],
   "source": [
    "import pandas as pd\n",
    "import numpy as np\n",
    "from sklearn.ensemble import RandomForestClassifier\n",
    "from sklearn.cross_validation import train_test_split\n",
    "from sklearn.metrics import precision_score, recall_score, confusion_matrix"
   ]
  },
  {
   "cell_type": "code",
   "execution_count": 2,
   "metadata": {
    "collapsed": true
   },
   "outputs": [],
   "source": [
    "df = pd.read_csv(\"./data/data.csv\")\n",
    "df_quiz = pd.read_csv(\"./data/quiz.csv\")"
   ]
  },
  {
   "cell_type": "code",
   "execution_count": 3,
   "metadata": {
    "collapsed": true
   },
   "outputs": [],
   "source": [
    "df_y = df['label'].copy()\n",
    "del df['label']"
   ]
  },
  {
   "cell_type": "code",
   "execution_count": 4,
   "metadata": {
    "collapsed": true
   },
   "outputs": [],
   "source": [
    "cols_to_delete = ['18','23','25','26', '29', '31', '32', '35',  '58']\n",
    "for col in cols_to_delete:\n",
    "    del df[col]\n",
    "    del df_quiz[col]"
   ]
  },
  {
   "cell_type": "code",
   "execution_count": 5,
   "metadata": {
    "collapsed": true
   },
   "outputs": [],
   "source": [
    "# Define categorical columns\n",
    "categorical_cols_enhanced = list(df.columns)\n",
    "\n",
    "# Remove purely numeric columns\n",
    "categorical_cols_enhanced.remove('59')\n",
    "categorical_cols_enhanced.remove('60')"
   ]
  },
  {
   "cell_type": "code",
   "execution_count": 6,
   "metadata": {
    "collapsed": true
   },
   "outputs": [],
   "source": [
    "# Convert categorical to one-hot sparse column\n",
    "df_one_hot = pd.get_dummies(df, columns=categorical_cols_enhanced)"
   ]
  },
  {
   "cell_type": "code",
   "execution_count": 7,
   "metadata": {
    "collapsed": false
   },
   "outputs": [],
   "source": [
    "df_one_hot_quiz = pd.get_dummies(df_quiz, columns=categorical_cols_enhanced)\n",
    "\n",
    "col_to_add = np.setdiff1d(df_one_hot.columns, df_one_hot_quiz.columns)\n",
    "for c in col_to_add:\n",
    "    # df_one_hot_quiz[c] = 0\n",
    "    # alternatively, remove any features we don't have in either\n",
    "    if c in df_one_hot.columns: del df_one_hot[c]\n",
    "    if c in df_one_hot_quiz.columns: del df_one_hot_quiz[c]\n",
    "\n",
    "df_one_hot_quiz = df_one_hot_quiz[df_one_hot.columns]"
   ]
  },
  {
   "cell_type": "code",
   "execution_count": 8,
   "metadata": {
    "collapsed": true
   },
   "outputs": [],
   "source": [
    "# for c in df_one_hot.columns:\n",
    "#     if df_one_hot[c].std() < 0.5:\n",
    "#         del df_one_hot[c]\n",
    "#         del df_one_hot_quiz[c]"
   ]
  },
  {
   "cell_type": "code",
   "execution_count": 9,
   "metadata": {
    "collapsed": false
   },
   "outputs": [
    {
     "name": "stdout",
     "output_type": "stream",
     "text": [
      "columns: 528\n"
     ]
    }
   ],
   "source": [
    "print ('columns:', len(df_one_hot.columns))"
   ]
  },
  {
   "cell_type": "code",
   "execution_count": 10,
   "metadata": {
    "collapsed": false
   },
   "outputs": [],
   "source": [
    "X_train, X_test, y_train, y_test = train_test_split(df_one_hot, df_y, random_state=1, train_size=0.8)\n",
    "# X_train, y_train = df_one_hot, df_y"
   ]
  },
  {
   "cell_type": "code",
   "execution_count": 11,
   "metadata": {
    "collapsed": true
   },
   "outputs": [],
   "source": [
    "def get_predictions(cls, test_features):\n",
    "    predicted = cls.predict(test_features)\n",
    "    predicted_probs = cls.predict_proba(test_features).transpose()[1]\n",
    "    predicted = pd.Series(predicted, index=test_features.index)\n",
    "    predicted.name = 'predicted'\n",
    "    return predicted, predicted_probs"
   ]
  },
  {
   "cell_type": "code",
   "execution_count": 12,
   "metadata": {
    "collapsed": true
   },
   "outputs": [],
   "source": [
    "def run_rfc(rfc):\n",
    "    rfc.fit(X_train, y_train)\n",
    "    print (rfc)\n",
    "    test_preds, _ = get_predictions(rfc, X_test)\n",
    "    train_preds, _ = get_predictions(rfc, X_train)\n",
    "    \n",
    "    print ('train accuracy:', rfc.score(X_train, y_train))\n",
    "    print ('train precision:', precision_score(y_train, train_preds))\n",
    "    print ('train recall:', recall_score(y_train, train_preds))\n",
    "    \n",
    "    print ('test accuracy:', rfc.score(X_test, y_test))\n",
    "    print ('test precision:', precision_score(y_test, test_preds))\n",
    "    print ('test recall:', recall_score(y_test, test_preds))"
   ]
  },
  {
   "cell_type": "code",
   "execution_count": 13,
   "metadata": {
    "collapsed": false
   },
   "outputs": [],
   "source": [
    "rfc = RandomForestClassifier(random_state=1, n_estimators=20, min_samples_leaf=1)"
   ]
  },
  {
   "cell_type": "code",
   "execution_count": 14,
   "metadata": {
    "collapsed": false
   },
   "outputs": [
    {
     "name": "stdout",
     "output_type": "stream",
     "text": [
      "RandomForestClassifier(bootstrap=True, class_weight=None, criterion='gini',\n",
      "            max_depth=None, max_features='auto', max_leaf_nodes=None,\n",
      "            min_samples_leaf=1, min_samples_split=2,\n",
      "            min_weight_fraction_leaf=0.0, n_estimators=20, n_jobs=1,\n",
      "            oob_score=False, random_state=1, verbose=0, warm_start=False)\n",
      "train accuracy: 0.997881126255\n",
      "train precision: 0.999077967931\n",
      "train recall: 0.996098654709\n",
      "test accuracy: 0.946073793756\n",
      "test precision: 0.960064351282\n",
      "test recall: 0.914705617167\n"
     ]
    }
   ],
   "source": [
    "run_rfc(rfc)"
   ]
  },
  {
   "cell_type": "code",
   "execution_count": 15,
   "metadata": {
    "collapsed": true
   },
   "outputs": [],
   "source": [
    "quiz_preds = rfc.predict(df_one_hot_quiz)\n",
    "new_quiz_preds = [int(b) for b in rfc.predict_proba(df_one_hot_quiz).transpose()[1] > 0.4]\n",
    "\n"
   ]
  },
  {
   "cell_type": "code",
   "execution_count": 16,
   "metadata": {
    "collapsed": false
   },
   "outputs": [
    {
     "data": {
      "text/plain": [
       "31709"
      ]
     },
     "execution_count": 16,
     "metadata": {},
     "output_type": "execute_result"
    }
   ],
   "source": [
    "len(quiz_preds != new_quiz_preds)"
   ]
  },
  {
   "cell_type": "code",
   "execution_count": 17,
   "metadata": {
    "collapsed": false
   },
   "outputs": [
    {
     "data": {
      "text/plain": [
       "array([[13855,   422],\n",
       "       [  946, 10145]])"
      ]
     },
     "execution_count": 17,
     "metadata": {},
     "output_type": "execute_result"
    }
   ],
   "source": [
    "test_predicted = rfc.predict(X_test)\n",
    "# predicted = pd.Series(predicted, index=test_features.index)\n",
    "confusion_matrix(y_test, test_predicted)"
   ]
  },
  {
   "cell_type": "code",
   "execution_count": 33,
   "metadata": {
    "collapsed": false
   },
   "outputs": [
    {
     "name": "stdout",
     "output_type": "stream",
     "text": [
      "test accuracy: 0.416548407442\n",
      "test precision: 0.603589799715\n",
      "test recall: 0.994500045082\n"
     ]
    },
    {
     "data": {
      "text/plain": [
       "[1, 1, 0, 1, 0, 1, 1, 0, 0, 1]"
      ]
     },
     "execution_count": 33,
     "metadata": {},
     "output_type": "execute_result"
    }
   ],
   "source": [
    "test_predicted_probs = rfc.predict_proba(X_test).transpose()[1]\n",
    "new_test_preds = [int(b) for b in test_predicted_probs > 0.01]\n",
    "# new_test_preds = pd.Series(new_test_preds, index=X_test.index)\n",
    "print ('test accuracy:', rfc.score(X_test, new_test_preds))\n",
    "print ('test precision:', precision_score(y_test, new_test_preds))\n",
    "print ('test recall:', recall_score(y_test, new_test_preds))"
   ]
  },
  {
   "cell_type": "code",
   "execution_count": 19,
   "metadata": {
    "collapsed": false
   },
   "outputs": [],
   "source": [
    "def submission(preds, ver):\n",
    "    with open(\"./submissions/submission_{}.csv\".format(ver), 'w') as f:\n",
    "        f.write(\"Id,Prediction\\n\")\n",
    "        for i, pred in enumerate(preds):\n",
    "            f.write(\"{},{}\\n\".format(i+1,pred))"
   ]
  },
  {
   "cell_type": "code",
   "execution_count": 20,
   "metadata": {
    "collapsed": true
   },
   "outputs": [],
   "source": [
    "submission(quiz_preds, \"09\")"
   ]
  },
  {
   "cell_type": "markdown",
   "metadata": {},
   "source": [
    "# RandomForestClassifier Results\n",
    "\n",
    "### n_estimators = 20\n",
    "### min_samples_leaf = 1\n",
    "### train_size = 0.8\n",
    "RandomForestClassifier(bootstrap=True, class_weight=None, criterion='gini',\n",
    "            max_depth=None, max_features='auto', max_leaf_nodes=None,\n",
    "            min_samples_leaf=1, min_samples_split=2,\n",
    "            min_weight_fraction_leaf=0.0, n_estimators=20, n_jobs=1,\n",
    "            oob_score=False, random_state=1, verbose=0, warm_start=False)\n",
    "            \n",
    "train accuracy: 0.997585469454\n",
    "\n",
    "train precision: 0.999009967824\n",
    "\n",
    "train recall: 0.995493273543\n",
    "\n",
    "test accuracy: 0.9456401766\n",
    "\n",
    "test precision: 0.960895975702\n",
    "\n",
    "test recall: 0.912812190064\n",
    "\n",
    "\n",
    "### n_estimators = 20\n",
    "### min_samples_leaf = 20\n",
    "### train_size = 0.8\n",
    "RandomForestClassifier(bootstrap=True, class_weight=None, criterion='gini',\n",
    "            max_depth=None, max_features='auto', max_leaf_nodes=None,\n",
    "            min_samples_leaf=20, min_samples_split=2,\n",
    "            min_weight_fraction_leaf=0.0, n_estimators=20, n_jobs=1,\n",
    "            oob_score=False, random_state=1, verbose=0, warm_start=False)\n",
    "            \n",
    "train accuracy: 0.908967270792\n",
    "\n",
    "train precision: 0.926049974699\n",
    "\n",
    "train recall: 0.861704035874\n",
    "\n",
    "test accuracy: 0.904367707348\n",
    "\n",
    "test precision: 0.919044395009\n",
    "\n",
    "test recall: 0.856730682535\n",
    "\n",
    "\n",
    "### n_estimators = 20\n",
    "### min_samples_leaf = 10\n",
    "### train_size = 0.8\n",
    "RandomForestClassifier(bootstrap=True, class_weight=None, criterion='gini',\n",
    "            max_depth=None, max_features='auto', max_leaf_nodes=None,\n",
    "            min_samples_leaf=10, min_samples_split=2,\n",
    "            min_weight_fraction_leaf=0.0, n_estimators=20, n_jobs=1,\n",
    "            oob_score=False, random_state=1, verbose=0, warm_start=False)\n",
    "            \n",
    "train accuracy: 0.920763977175\n",
    "\n",
    "train precision: 0.938138152533\n",
    "\n",
    "train recall: 0.877600896861\n",
    "\n",
    "test accuracy: 0.914853358562\n",
    "\n",
    "test precision: 0.928838951311\n",
    "\n",
    "test recall: 0.872058425751\n",
    "\n",
    "\n",
    "### n_estimators = 20\n",
    "### min_samples_leaf = 5\n",
    "### train_size = 0.8\n",
    "RandomForestClassifier(bootstrap=True, class_weight=None, criterion='gini',\n",
    "            max_depth=None, max_features='auto', max_leaf_nodes=None,\n",
    "            min_samples_leaf=5, min_samples_split=2,\n",
    "            min_weight_fraction_leaf=0.0, n_estimators=20, n_jobs=1,\n",
    "            oob_score=False, random_state=1, verbose=0, warm_start=False)\n",
    "            \n",
    "train accuracy: 0.932008790862\n",
    "\n",
    "train precision: 0.950311746017\n",
    "\n",
    "train recall: 0.891950672646\n",
    "\n",
    "test accuracy: 0.924471775465\n",
    "\n",
    "test precision: 0.938785270206\n",
    "\n",
    "test recall: 0.88495176269\n",
    "\n",
    "\n",
    "### n_estimators = 20\n",
    "### min_samples_leaf = 3\n",
    "### train_size = 0.8\n",
    "RandomForestClassifier(bootstrap=True, class_weight=None, criterion='gini',\n",
    "            max_depth=None, max_features='auto', max_leaf_nodes=None,\n",
    "            min_samples_leaf=3, min_samples_split=2,\n",
    "            min_weight_fraction_leaf=0.0, n_estimators=20, n_jobs=1,\n",
    "            oob_score=False, random_state=1, verbose=0, warm_start=False)\n",
    "            \n",
    "train accuracy: 0.943746365885\n",
    "\n",
    "train precision: 0.961155378486\n",
    "\n",
    "train recall: 0.908744394619\n",
    "\n",
    "test accuracy: 0.931173131504\n",
    "\n",
    "test precision: 0.945976901785\n",
    "\n",
    "test recall: 0.893607429447\n",
    "\n",
    "\n",
    "### n_estimators = 20\n",
    "### min_samples_leaf = 1\n",
    "### train_size = 0.6\n",
    "RandomForestClassifier(bootstrap=True, class_weight=None, criterion='gini',\n",
    "            max_depth=None, max_features='auto', max_leaf_nodes=None,\n",
    "            min_samples_leaf=1, min_samples_split=2,\n",
    "            min_weight_fraction_leaf=0.0, n_estimators=20, n_jobs=1,\n",
    "            oob_score=False, random_state=1, verbose=0, warm_start=False)\n",
    "            \n",
    "train accuracy: 0.997871278022\n",
    "\n",
    "train precision: 0.999309661734\n",
    "\n",
    "train recall: 0.995842431131\n",
    "\n",
    "test accuracy: 0.943865181827\n",
    "\n",
    "test precision: 0.959212643134\n",
    "\n",
    "test recall: 0.910773654416\n",
    "\n",
    "\n",
    "### n_estimators = 20\n",
    "### min_samples_leaf = 1\n",
    "### train_size = 0.4\n",
    "RandomForestClassifier(bootstrap=True, class_weight=None, criterion='gini',\n",
    "            max_depth=None, max_features='auto', max_leaf_nodes=None,\n",
    "            min_samples_leaf=1, min_samples_split=2,\n",
    "            min_weight_fraction_leaf=0.0, n_estimators=20, n_jobs=1,\n",
    "            oob_score=False, random_state=1, verbose=0, warm_start=False)\n",
    "train accuracy: 0.997772696811\n",
    "\n",
    "train precision: 0.999059982095\n",
    "\n",
    "train recall: 0.995894873053\n",
    "\n",
    "test accuracy: 0.936415121612\n",
    "\n",
    "test precision: 0.950600462626\n",
    "\n",
    "test recall: 0.901442307692\n",
    "\n",
    "\n",
    "### n_estimators = 20\n",
    "### min_samples_leaf = 1\n",
    "### train_size = 0.6\n",
    "### std > 0.2\n",
    "RandomForestClassifier(bootstrap=True, class_weight=None, criterion='gini',\n",
    "            max_depth=None, max_features='auto', max_leaf_nodes=None,\n",
    "            min_samples_leaf=1, min_samples_split=2,\n",
    "            min_weight_fraction_leaf=0.0, n_estimators=20, n_jobs=1,\n",
    "            oob_score=False, random_state=1, verbose=0, warm_start=False)\n",
    "            \n",
    "train accuracy: 0.99563743397\n",
    "\n",
    "train precision: 0.996281747579\n",
    "\n",
    "train recall: 0.99377860198\n",
    "\n",
    "test accuracy: 0.936710357741\n",
    "\n",
    "test precision: 0.942069349673\n",
    "\n",
    "test recall: 0.911806990745\n",
    "\n",
    "\n",
    "### n_estimators = 20\n",
    "### min_samples_leaf = 1\n",
    "### train_size = 0.8\n",
    "### std > 0.2\n",
    "RandomForestClassifier(bootstrap=True, class_weight=None, criterion='gini',\n",
    "            max_depth=None, max_features='auto', max_leaf_nodes=None,\n",
    "            min_samples_leaf=1, min_samples_split=2,\n",
    "            min_weight_fraction_leaf=0.0, n_estimators=20, n_jobs=1,\n",
    "            oob_score=False, random_state=1, verbose=0, warm_start=False)\n",
    "            \n",
    "train accuracy: 0.995289201628\n",
    "\n",
    "train precision: 0.996087249831\n",
    "\n",
    "train recall: 0.993183856502\n",
    "\n",
    "test accuracy: 0.941934720908\n",
    "\n",
    "test precision: 0.948182665424\n",
    "\n",
    "test recall: 0.917320349833\n",
    "\n",
    "\n",
    "### n_estimators = 50\n",
    "### min_samples_leaf = 1\n",
    "### train_size = 0.8\n",
    "### std > 0.2\n",
    "RandomForestClassifier(bootstrap=True, class_weight=None, criterion='gini',\n",
    "            max_depth=None, max_features='auto', max_leaf_nodes=None,\n",
    "            min_samples_leaf=1, min_samples_split=2,\n",
    "            min_weight_fraction_leaf=0.0, n_estimators=50, n_jobs=1,\n",
    "            oob_score=False, random_state=1, verbose=0, warm_start=False)\n",
    "            \n",
    "train accuracy: 0.996649222915\n",
    "\n",
    "train precision: 0.996722930508\n",
    "\n",
    "train recall: 0.995650224215\n",
    "\n",
    "test accuracy: 0.94311731315\n",
    "\n",
    "test precision: 0.948327137546\n",
    "\n",
    "test recall: 0.920025245695\n",
    "\n",
    "### n_estimators = 100\n",
    "### min_samples_leaf = 1\n",
    "### train_size = 0.8\n",
    "### std > 0.2\n",
    "RandomForestClassifier(bootstrap=True, class_weight=None, criterion='gini',\n",
    "            max_depth=None, max_features='auto', max_leaf_nodes=None,\n",
    "            min_samples_leaf=1, min_samples_split=2,\n",
    "            min_weight_fraction_leaf=0.0, n_estimators=100, n_jobs=1,\n",
    "            oob_score=False, random_state=1, verbose=0, warm_start=False)\n",
    "            \n",
    "train accuracy: 0.99690545881\n",
    "\n",
    "train precision: 0.996591163938\n",
    "\n",
    "train recall: 0.996367713004\n",
    "\n",
    "test accuracy: 0.943353831599\n",
    "\n",
    "test precision: 0.94744160178\n",
    "\n",
    "test recall: 0.921558020016\n",
    "\n",
    "### n_estimators = 100\n",
    "### min_samples_leaf = 1\n",
    "### train_size = 0.8\n",
    "### std > 0.3\n",
    "RandomForestClassifier(bootstrap=True, class_weight=None, criterion='gini',\n",
    "            max_depth=None, max_features='auto', max_leaf_nodes=None,\n",
    "            min_samples_leaf=1, min_samples_split=2,\n",
    "            min_weight_fraction_leaf=0.0, n_estimators=100, n_jobs=1,\n",
    "            oob_score=False, random_state=1, verbose=0, warm_start=False)\n",
    "            \n",
    "train accuracy: 0.993475839912\n",
    "\n",
    "train precision: 0.992843682699\n",
    "\n",
    "train recall: 0.99230941704\n",
    "\n",
    "test accuracy: 0.93637653737\n",
    "\n",
    "test precision: 0.932937414344\n",
    "\n",
    "test recall: 0.920656388062\n",
    "\n",
    "\n",
    "### n_estimators = 200\n",
    "### min_samples_leaf = 1\n",
    "### train_size = 0.8\n",
    "### std > 0.2\n",
    "RandomForestClassifier(bootstrap=True, class_weight=None, criterion='gini',\n",
    "            max_depth=None, max_features='auto', max_leaf_nodes=None,\n",
    "            min_samples_leaf=1, min_samples_split=2,\n",
    "            min_weight_fraction_leaf=0.0, n_estimators=200, n_jobs=1,\n",
    "            oob_score=False, random_state=1, verbose=0, warm_start=False)\n",
    "            \n",
    "train accuracy: 0.996915314037\n",
    "\n",
    "train precision: 0.99654669806\n",
    "\n",
    "train recall: 0.996434977578\n",
    "\n",
    "test accuracy: 0.943511510564\n",
    "\n",
    "test precision: 0.947378173059\n",
    "\n",
    "test recall: 0.922008835993\n"
   ]
  },
  {
   "cell_type": "code",
   "execution_count": null,
   "metadata": {
    "collapsed": true
   },
   "outputs": [],
   "source": []
  }
 ],
 "metadata": {
  "kernelspec": {
   "display_name": "Python 3",
   "language": "python",
   "name": "python3"
  },
  "language_info": {
   "codemirror_mode": {
    "name": "ipython",
    "version": 3
   },
   "file_extension": ".py",
   "mimetype": "text/x-python",
   "name": "python",
   "nbconvert_exporter": "python",
   "pygments_lexer": "ipython3",
   "version": "3.3.4"
  }
 },
 "nbformat": 4,
 "nbformat_minor": 0
}
