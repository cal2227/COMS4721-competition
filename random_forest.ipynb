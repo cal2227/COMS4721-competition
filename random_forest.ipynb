{
 "cells": [
  {
   "cell_type": "code",
   "execution_count": 1,
   "metadata": {
    "collapsed": true
   },
   "outputs": [],
   "source": [
    "import pandas as pd\n",
    "import numpy as np\n",
    "from sklearn.ensemble import RandomForestClassifier\n",
    "from sklearn.cross_validation import train_test_split\n",
    "from sklearn.metrics import precision_score, recall_score"
   ]
  },
  {
   "cell_type": "code",
   "execution_count": 2,
   "metadata": {
    "collapsed": true
   },
   "outputs": [],
   "source": [
    "df = pd.read_csv(\"./data/data.csv\")\n",
    "df_quiz = pd.read_csv(\"./data/quiz.csv\")"
   ]
  },
  {
   "cell_type": "code",
   "execution_count": 3,
   "metadata": {
    "collapsed": true
   },
   "outputs": [],
   "source": [
    "df_y = df['label'].copy()\n",
    "del df['label']"
   ]
  },
  {
   "cell_type": "code",
   "execution_count": 4,
   "metadata": {
    "collapsed": true
   },
   "outputs": [],
   "source": [
    "cols_to_delete = ['18','25','29', '31', '32', '35', '23', '26', '58']\n",
    "for col in cols_to_delete:\n",
    "    del df[col]\n",
    "    del df_quiz[col]"
   ]
  },
  {
   "cell_type": "code",
   "execution_count": 5,
   "metadata": {
    "collapsed": true
   },
   "outputs": [],
   "source": [
    "# Normalize the continuous columns\n",
    "df['59'] = (df['59'] - df['59'].mean()) /  (df['59'].max() - df['59'].min())\n",
    "df['60'] = (df['60'] - df['60'].mean()) /  (df['60'].max() - df['60'].min())\n",
    "\n",
    "df_quiz['59'] = (df_quiz['59'] - df_quiz['59'].mean()) /  (df_quiz['59'].max() - df_quiz['59'].min())\n",
    "df_quiz['60'] = (df_quiz['60'] - df_quiz['60'].mean()) /  (df_quiz['60'].max() - df_quiz['60'].min())"
   ]
  },
  {
   "cell_type": "code",
   "execution_count": 6,
   "metadata": {
    "collapsed": true
   },
   "outputs": [],
   "source": [
    "# Define categorical columns\n",
    "categorical_cols = ['56', '20', '14', '17', '16', '57', '0', '5', '7', '9', '8']\n",
    "num_to_categorical_cols = [str(i) for i in range(38,52)] # numerical columns with [0,1,2] vals, also converting\n",
    "categorical_cols_enhanced = categorical_cols + num_to_categorical_cols  "
   ]
  },
  {
   "cell_type": "code",
   "execution_count": 7,
   "metadata": {
    "collapsed": true
   },
   "outputs": [],
   "source": [
    "# Convert categorical to one-hot sparse column\n",
    "df_one_hot = pd.get_dummies(df, columns=categorical_cols_enhanced)"
   ]
  },
  {
   "cell_type": "code",
   "execution_count": 8,
   "metadata": {
    "collapsed": false
   },
   "outputs": [],
   "source": [
    "df_one_hot_quiz = pd.get_dummies(df_quiz, columns=categorical_cols_enhanced)\n",
    "\n",
    "col_to_add = np.setdiff1d(df_one_hot.columns, df_one_hot_quiz.columns)\n",
    "for c in col_to_add:\n",
    "    df_one_hot_quiz[c] = 0\n",
    "\n",
    "df_one_hot_quiz = df_one_hot_quiz[df_one_hot.columns]"
   ]
  },
  {
   "cell_type": "code",
   "execution_count": 9,
   "metadata": {
    "collapsed": true
   },
   "outputs": [],
   "source": [
    "X_train, X_test, y_train, y_test = train_test_split(df_one_hot, df_y, random_state=3, train_size=0.8)"
   ]
  },
  {
   "cell_type": "code",
   "execution_count": 10,
   "metadata": {
    "collapsed": true
   },
   "outputs": [],
   "source": [
    "def get_predictions(cls, test_features):\n",
    "    predicted = cls.predict(test_features)\n",
    "    predicted_probs = cls.predict_proba(test_features).transpose()[1]\n",
    "    predicted = pd.Series(predicted, index=test_features.index)\n",
    "    predicted.name = 'predicted'\n",
    "    return predicted, predicted_probs"
   ]
  },
  {
   "cell_type": "code",
   "execution_count": 11,
   "metadata": {
    "collapsed": true
   },
   "outputs": [],
   "source": [
    "def run_rfc(rfc):\n",
    "    rfc.fit(X_train, y_train)\n",
    "    print (rfc)\n",
    "    test_preds, _ = get_predictions(rfc, X_test)\n",
    "    train_preds, _ = get_predictions(rfc, X_train)\n",
    "    \n",
    "    print ('train accuracy:', rfc.score(X_train, y_train))\n",
    "    print ('train precision:', precision_score(y_train, train_preds))\n",
    "    print ('train recall:', recall_score(y_train, train_preds))\n",
    "    \n",
    "    print ('test accuracy:', rfc.score(X_test, y_test))\n",
    "    print ('test precision:', precision_score(y_test, test_preds))\n",
    "    print ('test recall:', recall_score(y_test, test_preds))"
   ]
  },
  {
   "cell_type": "code",
   "execution_count": 12,
   "metadata": {
    "collapsed": false
   },
   "outputs": [],
   "source": [
    "rfc = RandomForestClassifier(n_estimators=9, max_features='log2', random_state=3, min_samples_leaf=2, \n",
    "                             min_samples_split=3, max_depth=20)"
   ]
  },
  {
   "cell_type": "code",
   "execution_count": 13,
   "metadata": {
    "collapsed": false
   },
   "outputs": [],
   "source": [
    "rfc_default = RandomForestClassifier()"
   ]
  },
  {
   "cell_type": "code",
   "execution_count": 14,
   "metadata": {
    "collapsed": false
   },
   "outputs": [
    {
     "name": "stdout",
     "output_type": "stream",
     "text": [
      "RandomForestClassifier(bootstrap=True, class_weight=None, criterion='gini',\n",
      "            max_depth=20, max_features='log2', max_leaf_nodes=None,\n",
      "            min_samples_leaf=2, min_samples_split=3,\n",
      "            min_weight_fraction_leaf=0.0, n_estimators=9, n_jobs=1,\n",
      "            oob_score=False, random_state=3, verbose=0, warm_start=False)\n",
      "train accuracy: 0.89055770728\n",
      "train precision: 0.913536429064\n",
      "train recall: 0.829896330131\n",
      "test accuracy: 0.887496058026\n",
      "test precision: 0.903394513519\n",
      "test recall: 0.830009066183\n"
     ]
    }
   ],
   "source": [
    "run_rfc(rfc)"
   ]
  },
  {
   "cell_type": "code",
   "execution_count": 15,
   "metadata": {
    "collapsed": false
   },
   "outputs": [
    {
     "name": "stdout",
     "output_type": "stream",
     "text": [
      "RandomForestClassifier(bootstrap=True, class_weight=None, criterion='gini',\n",
      "            max_depth=None, max_features='auto', max_leaf_nodes=None,\n",
      "            min_samples_leaf=1, min_samples_split=2,\n",
      "            min_weight_fraction_leaf=0.0, n_estimators=10, n_jobs=1,\n",
      "            oob_score=False, random_state=None, verbose=0,\n",
      "            warm_start=False)\n",
      "train accuracy: 0.994402231223\n",
      "train precision: 0.9986203777\n",
      "train recall: 0.988647813529\n",
      "test accuracy: 0.942959634185\n",
      "test precision: 0.957422434368\n",
      "test recall: 0.9092475068\n"
     ]
    }
   ],
   "source": [
    "run_rfc(rfc_default)"
   ]
  }
 ],
 "metadata": {
  "kernelspec": {
   "display_name": "Python 3",
   "language": "python",
   "name": "python3"
  },
  "language_info": {
   "codemirror_mode": {
    "name": "ipython",
    "version": 3
   },
   "file_extension": ".py",
   "mimetype": "text/x-python",
   "name": "python",
   "nbconvert_exporter": "python",
   "pygments_lexer": "ipython3",
   "version": "3.3.4"
  }
 },
 "nbformat": 4,
 "nbformat_minor": 0
}
