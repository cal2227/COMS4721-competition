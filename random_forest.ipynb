{
 "cells": [
  {
   "cell_type": "code",
   "execution_count": 1,
   "metadata": {
    "collapsed": false
   },
   "outputs": [],
   "source": [
    "import pandas as pd\n",
    "import numpy as np\n",
    "from sklearn.ensemble import RandomForestClassifier\n",
    "from sklearn.cross_validation import train_test_split\n",
    "from sklearn.metrics import precision_score, recall_score"
   ]
  },
  {
   "cell_type": "code",
   "execution_count": 2,
   "metadata": {
    "collapsed": true
   },
   "outputs": [],
   "source": [
    "df = pd.read_csv(\"./data/data.csv\")\n",
    "df_quiz = pd.read_csv(\"./data/quiz.csv\")"
   ]
  },
  {
   "cell_type": "code",
   "execution_count": 3,
   "metadata": {
    "collapsed": true
   },
   "outputs": [],
   "source": [
    "df_y = df['label'].copy()\n",
    "del df['label']"
   ]
  },
  {
   "cell_type": "code",
   "execution_count": 4,
   "metadata": {
    "collapsed": true
   },
   "outputs": [],
   "source": [
    "cols_to_delete = ['18','25','29', '31', '32', '35', '23', '26', '58']\n",
    "for col in cols_to_delete:\n",
    "    del df[col]\n",
    "    del df_quiz[col]"
   ]
  },
  {
   "cell_type": "code",
   "execution_count": 5,
   "metadata": {
    "collapsed": true
   },
   "outputs": [],
   "source": [
    "# Define categorical columns\n",
    "categorical_cols_enhanced = list(df.columns)\n",
    "\n",
    "# Remove purely numeric columns\n",
    "categorical_cols_enhanced.remove('59')\n",
    "categorical_cols_enhanced.remove('60')"
   ]
  },
  {
   "cell_type": "code",
   "execution_count": 6,
   "metadata": {
    "collapsed": true
   },
   "outputs": [],
   "source": [
    "# Convert categorical to one-hot sparse column\n",
    "df_one_hot = pd.get_dummies(df, columns=categorical_cols_enhanced)"
   ]
  },
  {
   "cell_type": "code",
   "execution_count": 7,
   "metadata": {
    "collapsed": false
   },
   "outputs": [],
   "source": [
    "df_one_hot_quiz = pd.get_dummies(df_quiz, columns=categorical_cols_enhanced)\n",
    "\n",
    "col_to_add = np.setdiff1d(df_one_hot.columns, df_one_hot_quiz.columns)\n",
    "for c in col_to_add:\n",
    "    df_one_hot_quiz[c] = 0\n",
    "\n",
    "df_one_hot_quiz = df_one_hot_quiz[df_one_hot.columns]"
   ]
  },
  {
   "cell_type": "code",
   "execution_count": 8,
   "metadata": {
    "collapsed": false
   },
   "outputs": [],
   "source": [
    "X_train, X_test, y_train, y_test = train_test_split(df_one_hot, df_y, random_state=1, train_size=0.8)\n",
    "# X_train, y_train = df_one_hot, df_y"
   ]
  },
  {
   "cell_type": "code",
   "execution_count": 9,
   "metadata": {
    "collapsed": true
   },
   "outputs": [],
   "source": [
    "def get_predictions(cls, test_features):\n",
    "    predicted = cls.predict(test_features)\n",
    "    predicted_probs = cls.predict_proba(test_features).transpose()[1]\n",
    "    predicted = pd.Series(predicted, index=test_features.index)\n",
    "    predicted.name = 'predicted'\n",
    "    return predicted, predicted_probs"
   ]
  },
  {
   "cell_type": "code",
   "execution_count": 10,
   "metadata": {
    "collapsed": true
   },
   "outputs": [],
   "source": [
    "def run_rfc(rfc):\n",
    "    rfc.fit(X_train, y_train)\n",
    "    print (rfc)\n",
    "    test_preds, _ = get_predictions(rfc, X_test)\n",
    "    train_preds, _ = get_predictions(rfc, X_train)\n",
    "    \n",
    "    print ('train accuracy:', rfc.score(X_train, y_train))\n",
    "    print ('train precision:', precision_score(y_train, train_preds))\n",
    "    print ('train recall:', recall_score(y_train, train_preds))\n",
    "    \n",
    "    print ('test accuracy:', rfc.score(X_test, y_test))\n",
    "    print ('test precision:', precision_score(y_test, test_preds))\n",
    "    print ('test recall:', recall_score(y_test, test_preds))"
   ]
  },
  {
   "cell_type": "code",
   "execution_count": 11,
   "metadata": {
    "collapsed": false
   },
   "outputs": [],
   "source": [
    "rfc = RandomForestClassifier(random_state=1, n_estimators=20, min_samples_leaf=3)"
   ]
  },
  {
   "cell_type": "code",
   "execution_count": 12,
   "metadata": {
    "collapsed": false
   },
   "outputs": [
    {
     "name": "stdout",
     "output_type": "stream",
     "text": [
      "RandomForestClassifier(bootstrap=True, class_weight=None, criterion='gini',\n",
      "            max_depth=None, max_features='auto', max_leaf_nodes=None,\n",
      "            min_samples_leaf=3, min_samples_split=2,\n",
      "            min_weight_fraction_leaf=0.0, n_estimators=20, n_jobs=1,\n",
      "            oob_score=False, random_state=1, verbose=0, warm_start=False)\n",
      "train accuracy: 0.943746365885\n",
      "train precision: 0.961155378486\n",
      "train recall: 0.908744394619\n",
      "test accuracy: 0.931173131504\n",
      "test precision: 0.945976901785\n",
      "test recall: 0.893607429447\n"
     ]
    }
   ],
   "source": [
    "run_rfc(rfc)"
   ]
  },
  {
   "cell_type": "code",
   "execution_count": 13,
   "metadata": {
    "collapsed": true
   },
   "outputs": [],
   "source": [
    "quiz_preds = rfc.predict(df_one_hot_quiz)"
   ]
  },
  {
   "cell_type": "code",
   "execution_count": 14,
   "metadata": {
    "collapsed": false
   },
   "outputs": [],
   "source": [
    "def submission(preds, ver):\n",
    "    with open(\"./submissions/submission_{}.csv\".format(ver), 'w') as f:\n",
    "        f.write(\"Id,Prediction\\n\")\n",
    "        for i, pred in enumerate(preds):\n",
    "            f.write(\"{},{}\\n\".format(i+1,pred))"
   ]
  },
  {
   "cell_type": "code",
   "execution_count": 15,
   "metadata": {
    "collapsed": true
   },
   "outputs": [],
   "source": [
    "#submission(quiz_preds, \"08\")"
   ]
  },
  {
   "cell_type": "markdown",
   "metadata": {},
   "source": [
    "# RandomForestClassifier Results\n",
    "\n",
    "### n_estimators = 20\n",
    "### min_samples_leaf = 1\n",
    "RandomForestClassifier(bootstrap=True, class_weight=None, criterion='gini',\n",
    "            max_depth=None, max_features='auto', max_leaf_nodes=None,\n",
    "            min_samples_leaf=1, min_samples_split=2,\n",
    "            min_weight_fraction_leaf=0.0, n_estimators=20, n_jobs=1,\n",
    "            oob_score=False, random_state=1, verbose=0, warm_start=False)\n",
    "train accuracy: 0.997585469454\n",
    "train precision: 0.999009967824\n",
    "train recall: 0.995493273543\n",
    "test accuracy: 0.9456401766\n",
    "test precision: 0.960895975702\n",
    "test recall: 0.912812190064\n",
    "\n",
    "\n",
    "### n_estimators = 20\n",
    "### min_samples_leaf = 20\n",
    "RandomForestClassifier(bootstrap=True, class_weight=None, criterion='gini',\n",
    "            max_depth=None, max_features='auto', max_leaf_nodes=None,\n",
    "            min_samples_leaf=20, min_samples_split=2,\n",
    "            min_weight_fraction_leaf=0.0, n_estimators=20, n_jobs=1,\n",
    "            oob_score=False, random_state=1, verbose=0, warm_start=False)\n",
    "train accuracy: 0.908967270792\n",
    "train precision: 0.926049974699\n",
    "train recall: 0.861704035874\n",
    "test accuracy: 0.904367707348\n",
    "test precision: 0.919044395009\n",
    "test recall: 0.856730682535\n",
    "\n",
    "\n",
    "### n_estimators = 20\n",
    "### min_samples_leaf = 10\n",
    "RandomForestClassifier(bootstrap=True, class_weight=None, criterion='gini',\n",
    "            max_depth=None, max_features='auto', max_leaf_nodes=None,\n",
    "            min_samples_leaf=10, min_samples_split=2,\n",
    "            min_weight_fraction_leaf=0.0, n_estimators=20, n_jobs=1,\n",
    "            oob_score=False, random_state=1, verbose=0, warm_start=False)\n",
    "train accuracy: 0.920763977175\n",
    "train precision: 0.938138152533\n",
    "train recall: 0.877600896861\n",
    "test accuracy: 0.914853358562\n",
    "test precision: 0.928838951311\n",
    "test recall: 0.872058425751\n",
    "\n",
    "\n",
    "### n_estimators = 20\n",
    "### min_samples_leaf = 5\n",
    "RandomForestClassifier(bootstrap=True, class_weight=None, criterion='gini',\n",
    "            max_depth=None, max_features='auto', max_leaf_nodes=None,\n",
    "            min_samples_leaf=5, min_samples_split=2,\n",
    "            min_weight_fraction_leaf=0.0, n_estimators=20, n_jobs=1,\n",
    "            oob_score=False, random_state=1, verbose=0, warm_start=False)\n",
    "train accuracy: 0.932008790862\n",
    "train precision: 0.950311746017\n",
    "train recall: 0.891950672646\n",
    "test accuracy: 0.924471775465\n",
    "test precision: 0.938785270206\n",
    "test recall: 0.88495176269\n",
    "\n",
    "\n",
    "### n_estimators = 20\n",
    "### min_samples_leaf = 3\n",
    "RandomForestClassifier(bootstrap=True, class_weight=None, criterion='gini',\n",
    "            max_depth=None, max_features='auto', max_leaf_nodes=None,\n",
    "            min_samples_leaf=3, min_samples_split=2,\n",
    "            min_weight_fraction_leaf=0.0, n_estimators=20, n_jobs=1,\n",
    "            oob_score=False, random_state=1, verbose=0, warm_start=False)\n",
    "train accuracy: 0.943746365885\n",
    "train precision: 0.961155378486\n",
    "train recall: 0.908744394619\n",
    "test accuracy: 0.931173131504\n",
    "test precision: 0.945976901785\n",
    "test recall: 0.893607429447"
   ]
  }
 ],
 "metadata": {
  "kernelspec": {
   "display_name": "Python 3",
   "language": "python",
   "name": "python3"
  },
  "language_info": {
   "codemirror_mode": {
    "name": "ipython",
    "version": 3
   },
   "file_extension": ".py",
   "mimetype": "text/x-python",
   "name": "python",
   "nbconvert_exporter": "python",
   "pygments_lexer": "ipython3",
   "version": "3.3.4"
  }
 },
 "nbformat": 4,
 "nbformat_minor": 0
}
