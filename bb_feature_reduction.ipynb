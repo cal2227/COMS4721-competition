{
 "cells": [
  {
   "cell_type": "code",
   "execution_count": 2,
   "metadata": {
    "collapsed": true
   },
   "outputs": [],
   "source": [
    "import pandas as pd\n",
    "import numpy as np\n",
    "from sklearn.ensemble import AdaBoostClassifier\n",
    "from sklearn.tree import DecisionTreeClassifier\n",
    "from time import time"
   ]
  },
  {
   "cell_type": "code",
   "execution_count": 3,
   "metadata": {
    "collapsed": false,
    "scrolled": true
   },
   "outputs": [],
   "source": [
    "%matplotlib inline"
   ]
  },
  {
   "cell_type": "code",
   "execution_count": 4,
   "metadata": {
    "collapsed": false
   },
   "outputs": [],
   "source": [
    "# Read data, use your own path\n",
    "df = pd.read_csv(\"./data/data.csv\")\n",
    "df_quiz = pd.read_csv(\"./data/quiz.csv\")"
   ]
  },
  {
   "cell_type": "code",
   "execution_count": 5,
   "metadata": {
    "collapsed": false
   },
   "outputs": [
    {
     "name": "stdout",
     "output_type": "stream",
     "text": [
      "(126837, 53) (31709, 52)\n"
     ]
    }
   ],
   "source": [
    "# Data shape\n",
    "print (df.shape, df_quiz.shape)"
   ]
  },
  {
   "cell_type": "code",
   "execution_count": 6,
   "metadata": {
    "collapsed": false
   },
   "outputs": [],
   "source": [
    "# Separate labels from input vectors\n",
    "df_y = df['label'].copy()\n",
    "del df['label']"
   ]
  },
  {
   "cell_type": "code",
   "execution_count": 7,
   "metadata": {
    "collapsed": false
   },
   "outputs": [],
   "source": [
    "# Delete columns that have no variance (all 0's or all 1's)\n",
    "cols_to_delete = ['18','25','29', '31', '32', '35', '23', '26', '58']\n",
    "for col in cols_to_delete:\n",
    "    del df[col]\n",
    "    del df_quiz[col]"
   ]
  },
  {
   "cell_type": "code",
   "execution_count": 8,
   "metadata": {
    "collapsed": false
   },
   "outputs": [
    {
     "name": "stdout",
     "output_type": "stream",
     "text": [
      "43\n"
     ]
    }
   ],
   "source": [
    "# Get list of remaining columns\n",
    "df_cols = list(df.columns.values)\n",
    "print (len(df_cols))"
   ]
  },
  {
   "cell_type": "code",
   "execution_count": 9,
   "metadata": {
    "collapsed": true
   },
   "outputs": [],
   "source": [
    "# Normalize the continuous columns\n",
    "df['59'] = (df['59'] - df['59'].mean()) /  (df['59'].max() - df['59'].min())\n",
    "df['60'] = (df['60'] - df['60'].mean()) /  (df['60'].max() - df['60'].min())\n",
    "\n",
    "df_quiz['59'] = (df_quiz['59'] - df_quiz['59'].mean()) /  (df_quiz['59'].max() - df_quiz['59'].min())\n",
    "df_quiz['60'] = (df_quiz['60'] - df_quiz['60'].mean()) /  (df_quiz['60'].max() - df_quiz['60'].min())\n"
   ]
  },
  {
   "cell_type": "code",
   "execution_count": 10,
   "metadata": {
    "collapsed": false
   },
   "outputs": [],
   "source": [
    "# Define categorical columns\n",
    "categorical_cols = ['56', '20', '14', '17', '16', '57', '0', '5', '7', '9', '8']\n",
    "num_to_categorical_cols = [str(i) for i in range(38,52)] # numerical columns with [0,1,2] vals, also converting\n",
    "categorical_cols_enhanced = categorical_cols + num_to_categorical_cols  "
   ]
  },
  {
   "cell_type": "code",
   "execution_count": 11,
   "metadata": {
    "collapsed": false
   },
   "outputs": [],
   "source": [
    "# Convert categorical to one-hot sparse column\n",
    "df_one_hot = pd.get_dummies(df, columns=categorical_cols_enhanced)"
   ]
  },
  {
   "cell_type": "code",
   "execution_count": 12,
   "metadata": {
    "collapsed": false
   },
   "outputs": [
    {
     "data": {
      "text/plain": [
       "(126837, 545)"
      ]
     },
     "execution_count": 12,
     "metadata": {},
     "output_type": "execute_result"
    }
   ],
   "source": [
    "df_one_hot.shape"
   ]
  },
  {
   "cell_type": "code",
   "execution_count": 13,
   "metadata": {
    "collapsed": false
   },
   "outputs": [
    {
     "data": {
      "text/plain": [
       "Index(['2', '11', '27', '28', '30', '33', '34', '36', '37', '52',\n",
       "       ...\n",
       "       '48_2.0', '49_0.0', '49_1.0', '49_2.0', '50_0.0', '50_1.0', '50_2.0',\n",
       "       '51_0.0', '51_1.0', '51_2.0'],\n",
       "      dtype='object', length=545)"
      ]
     },
     "execution_count": 13,
     "metadata": {},
     "output_type": "execute_result"
    }
   ],
   "source": [
    "df_one_hot.columns"
   ]
  },
  {
   "cell_type": "markdown",
   "metadata": {
    "collapsed": false
   },
   "source": [
    "## OneHot Encoding Quiz Data"
   ]
  },
  {
   "cell_type": "code",
   "execution_count": 14,
   "metadata": {
    "collapsed": true
   },
   "outputs": [],
   "source": [
    "df_one_hot_quiz = pd.get_dummies(df_quiz, columns=categorical_cols_enhanced)\n",
    "\n",
    "col_to_add = np.setdiff1d(df_one_hot.columns, df_one_hot_quiz.columns)\n",
    "for c in col_to_add:\n",
    "    df_one_hot_quiz[c] = 0\n",
    "\n",
    "df_one_hot_quiz = df_one_hot_quiz[df_one_hot.columns]"
   ]
  },
  {
   "cell_type": "code",
   "execution_count": 16,
   "metadata": {
    "collapsed": false
   },
   "outputs": [
    {
     "data": {
      "text/plain": [
       "(31709, 545)"
      ]
     },
     "execution_count": 16,
     "metadata": {},
     "output_type": "execute_result"
    }
   ],
   "source": [
    "df_one_hot_quiz.shape"
   ]
  },
  {
   "cell_type": "code",
   "execution_count": 17,
   "metadata": {
    "collapsed": false
   },
   "outputs": [
    {
     "data": {
      "text/html": [
       "<div>\n",
       "<table border=\"1\" class=\"dataframe\">\n",
       "  <thead>\n",
       "    <tr style=\"text-align: right;\">\n",
       "      <th></th>\n",
       "      <th>2</th>\n",
       "      <th>11</th>\n",
       "      <th>27</th>\n",
       "      <th>28</th>\n",
       "      <th>30</th>\n",
       "      <th>33</th>\n",
       "      <th>34</th>\n",
       "      <th>36</th>\n",
       "      <th>37</th>\n",
       "      <th>52</th>\n",
       "      <th>...</th>\n",
       "      <th>48_2.0</th>\n",
       "      <th>49_0.0</th>\n",
       "      <th>49_1.0</th>\n",
       "      <th>49_2.0</th>\n",
       "      <th>50_0.0</th>\n",
       "      <th>50_1.0</th>\n",
       "      <th>50_2.0</th>\n",
       "      <th>51_0.0</th>\n",
       "      <th>51_1.0</th>\n",
       "      <th>51_2.0</th>\n",
       "    </tr>\n",
       "  </thead>\n",
       "  <tbody>\n",
       "    <tr>\n",
       "      <th>count</th>\n",
       "      <td>31709.000000</td>\n",
       "      <td>31709.000000</td>\n",
       "      <td>31709.000000</td>\n",
       "      <td>31709.000000</td>\n",
       "      <td>31709.000000</td>\n",
       "      <td>31709.000000</td>\n",
       "      <td>31709.000000</td>\n",
       "      <td>31709.000000</td>\n",
       "      <td>31709.000000</td>\n",
       "      <td>31709.000000</td>\n",
       "      <td>...</td>\n",
       "      <td>31709.000000</td>\n",
       "      <td>31709.000000</td>\n",
       "      <td>31709.000000</td>\n",
       "      <td>31709.000000</td>\n",
       "      <td>31709.000000</td>\n",
       "      <td>31709.000000</td>\n",
       "      <td>31709.000000</td>\n",
       "      <td>31709.000000</td>\n",
       "      <td>31709.000000</td>\n",
       "      <td>31709.000000</td>\n",
       "    </tr>\n",
       "    <tr>\n",
       "      <th>mean</th>\n",
       "      <td>0.003721</td>\n",
       "      <td>0.002491</td>\n",
       "      <td>0.258444</td>\n",
       "      <td>0.322590</td>\n",
       "      <td>0.993913</td>\n",
       "      <td>0.099026</td>\n",
       "      <td>0.993913</td>\n",
       "      <td>0.596424</td>\n",
       "      <td>0.184743</td>\n",
       "      <td>0.005960</td>\n",
       "      <td>...</td>\n",
       "      <td>0.027090</td>\n",
       "      <td>0.963764</td>\n",
       "      <td>0.035573</td>\n",
       "      <td>0.000662</td>\n",
       "      <td>0.993251</td>\n",
       "      <td>0.006654</td>\n",
       "      <td>0.000095</td>\n",
       "      <td>0.821155</td>\n",
       "      <td>0.169731</td>\n",
       "      <td>0.009114</td>\n",
       "    </tr>\n",
       "    <tr>\n",
       "      <th>std</th>\n",
       "      <td>0.060890</td>\n",
       "      <td>0.049853</td>\n",
       "      <td>0.437786</td>\n",
       "      <td>0.467475</td>\n",
       "      <td>0.077780</td>\n",
       "      <td>0.298701</td>\n",
       "      <td>0.077780</td>\n",
       "      <td>0.490622</td>\n",
       "      <td>0.388095</td>\n",
       "      <td>0.076975</td>\n",
       "      <td>...</td>\n",
       "      <td>0.162349</td>\n",
       "      <td>0.186879</td>\n",
       "      <td>0.185227</td>\n",
       "      <td>0.025727</td>\n",
       "      <td>0.081875</td>\n",
       "      <td>0.081303</td>\n",
       "      <td>0.009726</td>\n",
       "      <td>0.383229</td>\n",
       "      <td>0.375402</td>\n",
       "      <td>0.095033</td>\n",
       "    </tr>\n",
       "    <tr>\n",
       "      <th>min</th>\n",
       "      <td>0.000000</td>\n",
       "      <td>0.000000</td>\n",
       "      <td>0.000000</td>\n",
       "      <td>0.000000</td>\n",
       "      <td>0.000000</td>\n",
       "      <td>0.000000</td>\n",
       "      <td>0.000000</td>\n",
       "      <td>0.000000</td>\n",
       "      <td>0.000000</td>\n",
       "      <td>0.000000</td>\n",
       "      <td>...</td>\n",
       "      <td>0.000000</td>\n",
       "      <td>0.000000</td>\n",
       "      <td>0.000000</td>\n",
       "      <td>0.000000</td>\n",
       "      <td>0.000000</td>\n",
       "      <td>0.000000</td>\n",
       "      <td>0.000000</td>\n",
       "      <td>0.000000</td>\n",
       "      <td>0.000000</td>\n",
       "      <td>0.000000</td>\n",
       "    </tr>\n",
       "    <tr>\n",
       "      <th>25%</th>\n",
       "      <td>0.000000</td>\n",
       "      <td>0.000000</td>\n",
       "      <td>0.000000</td>\n",
       "      <td>0.000000</td>\n",
       "      <td>1.000000</td>\n",
       "      <td>0.000000</td>\n",
       "      <td>1.000000</td>\n",
       "      <td>0.000000</td>\n",
       "      <td>0.000000</td>\n",
       "      <td>0.000000</td>\n",
       "      <td>...</td>\n",
       "      <td>0.000000</td>\n",
       "      <td>1.000000</td>\n",
       "      <td>0.000000</td>\n",
       "      <td>0.000000</td>\n",
       "      <td>1.000000</td>\n",
       "      <td>0.000000</td>\n",
       "      <td>0.000000</td>\n",
       "      <td>1.000000</td>\n",
       "      <td>0.000000</td>\n",
       "      <td>0.000000</td>\n",
       "    </tr>\n",
       "    <tr>\n",
       "      <th>50%</th>\n",
       "      <td>0.000000</td>\n",
       "      <td>0.000000</td>\n",
       "      <td>0.000000</td>\n",
       "      <td>0.000000</td>\n",
       "      <td>1.000000</td>\n",
       "      <td>0.000000</td>\n",
       "      <td>1.000000</td>\n",
       "      <td>1.000000</td>\n",
       "      <td>0.000000</td>\n",
       "      <td>0.000000</td>\n",
       "      <td>...</td>\n",
       "      <td>0.000000</td>\n",
       "      <td>1.000000</td>\n",
       "      <td>0.000000</td>\n",
       "      <td>0.000000</td>\n",
       "      <td>1.000000</td>\n",
       "      <td>0.000000</td>\n",
       "      <td>0.000000</td>\n",
       "      <td>1.000000</td>\n",
       "      <td>0.000000</td>\n",
       "      <td>0.000000</td>\n",
       "    </tr>\n",
       "    <tr>\n",
       "      <th>75%</th>\n",
       "      <td>0.000000</td>\n",
       "      <td>0.000000</td>\n",
       "      <td>1.000000</td>\n",
       "      <td>1.000000</td>\n",
       "      <td>1.000000</td>\n",
       "      <td>0.000000</td>\n",
       "      <td>1.000000</td>\n",
       "      <td>1.000000</td>\n",
       "      <td>0.000000</td>\n",
       "      <td>0.000000</td>\n",
       "      <td>...</td>\n",
       "      <td>0.000000</td>\n",
       "      <td>1.000000</td>\n",
       "      <td>0.000000</td>\n",
       "      <td>0.000000</td>\n",
       "      <td>1.000000</td>\n",
       "      <td>0.000000</td>\n",
       "      <td>0.000000</td>\n",
       "      <td>1.000000</td>\n",
       "      <td>0.000000</td>\n",
       "      <td>0.000000</td>\n",
       "    </tr>\n",
       "    <tr>\n",
       "      <th>max</th>\n",
       "      <td>1.000000</td>\n",
       "      <td>1.000000</td>\n",
       "      <td>1.000000</td>\n",
       "      <td>1.000000</td>\n",
       "      <td>1.000000</td>\n",
       "      <td>1.000000</td>\n",
       "      <td>1.000000</td>\n",
       "      <td>1.000000</td>\n",
       "      <td>1.000000</td>\n",
       "      <td>1.000000</td>\n",
       "      <td>...</td>\n",
       "      <td>1.000000</td>\n",
       "      <td>1.000000</td>\n",
       "      <td>1.000000</td>\n",
       "      <td>1.000000</td>\n",
       "      <td>1.000000</td>\n",
       "      <td>1.000000</td>\n",
       "      <td>1.000000</td>\n",
       "      <td>1.000000</td>\n",
       "      <td>1.000000</td>\n",
       "      <td>1.000000</td>\n",
       "    </tr>\n",
       "  </tbody>\n",
       "</table>\n",
       "<p>8 rows × 545 columns</p>\n",
       "</div>"
      ],
      "text/plain": [
       "                  2            11            27            28            30  \\\n",
       "count  31709.000000  31709.000000  31709.000000  31709.000000  31709.000000   \n",
       "mean       0.003721      0.002491      0.258444      0.322590      0.993913   \n",
       "std        0.060890      0.049853      0.437786      0.467475      0.077780   \n",
       "min        0.000000      0.000000      0.000000      0.000000      0.000000   \n",
       "25%        0.000000      0.000000      0.000000      0.000000      1.000000   \n",
       "50%        0.000000      0.000000      0.000000      0.000000      1.000000   \n",
       "75%        0.000000      0.000000      1.000000      1.000000      1.000000   \n",
       "max        1.000000      1.000000      1.000000      1.000000      1.000000   \n",
       "\n",
       "                 33            34            36            37            52  \\\n",
       "count  31709.000000  31709.000000  31709.000000  31709.000000  31709.000000   \n",
       "mean       0.099026      0.993913      0.596424      0.184743      0.005960   \n",
       "std        0.298701      0.077780      0.490622      0.388095      0.076975   \n",
       "min        0.000000      0.000000      0.000000      0.000000      0.000000   \n",
       "25%        0.000000      1.000000      0.000000      0.000000      0.000000   \n",
       "50%        0.000000      1.000000      1.000000      0.000000      0.000000   \n",
       "75%        0.000000      1.000000      1.000000      0.000000      0.000000   \n",
       "max        1.000000      1.000000      1.000000      1.000000      1.000000   \n",
       "\n",
       "           ...             48_2.0        49_0.0        49_1.0        49_2.0  \\\n",
       "count      ...       31709.000000  31709.000000  31709.000000  31709.000000   \n",
       "mean       ...           0.027090      0.963764      0.035573      0.000662   \n",
       "std        ...           0.162349      0.186879      0.185227      0.025727   \n",
       "min        ...           0.000000      0.000000      0.000000      0.000000   \n",
       "25%        ...           0.000000      1.000000      0.000000      0.000000   \n",
       "50%        ...           0.000000      1.000000      0.000000      0.000000   \n",
       "75%        ...           0.000000      1.000000      0.000000      0.000000   \n",
       "max        ...           1.000000      1.000000      1.000000      1.000000   \n",
       "\n",
       "             50_0.0        50_1.0        50_2.0        51_0.0        51_1.0  \\\n",
       "count  31709.000000  31709.000000  31709.000000  31709.000000  31709.000000   \n",
       "mean       0.993251      0.006654      0.000095      0.821155      0.169731   \n",
       "std        0.081875      0.081303      0.009726      0.383229      0.375402   \n",
       "min        0.000000      0.000000      0.000000      0.000000      0.000000   \n",
       "25%        1.000000      0.000000      0.000000      1.000000      0.000000   \n",
       "50%        1.000000      0.000000      0.000000      1.000000      0.000000   \n",
       "75%        1.000000      0.000000      0.000000      1.000000      0.000000   \n",
       "max        1.000000      1.000000      1.000000      1.000000      1.000000   \n",
       "\n",
       "             51_2.0  \n",
       "count  31709.000000  \n",
       "mean       0.009114  \n",
       "std        0.095033  \n",
       "min        0.000000  \n",
       "25%        0.000000  \n",
       "50%        0.000000  \n",
       "75%        0.000000  \n",
       "max        1.000000  \n",
       "\n",
       "[8 rows x 545 columns]"
      ]
     },
     "execution_count": 17,
     "metadata": {},
     "output_type": "execute_result"
    }
   ],
   "source": [
    "df_one_hot_quiz.describe()"
   ]
  },
  {
   "cell_type": "markdown",
   "metadata": {
    "collapsed": true
   },
   "source": [
    "## Logistic Regression"
   ]
  },
  {
   "cell_type": "code",
   "execution_count": 18,
   "metadata": {
    "collapsed": true
   },
   "outputs": [],
   "source": [
    "from sklearn.linear_model import LogisticRegression"
   ]
  },
  {
   "cell_type": "code",
   "execution_count": 19,
   "metadata": {
    "collapsed": true
   },
   "outputs": [],
   "source": [
    "logistic = LogisticRegression(penalty='l2', C=1000, \n",
    "                              fit_intercept=True, intercept_scaling=1, \n",
    "                              class_weight='balanced',\n",
    "                              tol=0.0001,\n",
    "                              n_jobs=-1,\n",
    "                              verbose=1)"
   ]
  },
  {
   "cell_type": "code",
   "execution_count": 20,
   "metadata": {
    "collapsed": false
   },
   "outputs": [
    {
     "name": "stdout",
     "output_type": "stream",
     "text": [
      "[LibLinear]"
     ]
    },
    {
     "data": {
      "text/plain": [
       "LogisticRegression(C=1000, class_weight='balanced', dual=False,\n",
       "          fit_intercept=True, intercept_scaling=1, max_iter=100,\n",
       "          multi_class='ovr', n_jobs=-1, penalty='l2', random_state=None,\n",
       "          solver='liblinear', tol=0.0001, verbose=1, warm_start=False)"
      ]
     },
     "execution_count": 20,
     "metadata": {},
     "output_type": "execute_result"
    }
   ],
   "source": [
    "logistic.fit(df_one_hot, df_y)"
   ]
  },
  {
   "cell_type": "code",
   "execution_count": 21,
   "metadata": {
    "collapsed": false
   },
   "outputs": [
    {
     "data": {
      "text/plain": [
       "0.88806893887430327"
      ]
     },
     "execution_count": 21,
     "metadata": {},
     "output_type": "execute_result"
    }
   ],
   "source": [
    "logistic.score(df_one_hot, df_y)"
   ]
  },
  {
   "cell_type": "code",
   "execution_count": 22,
   "metadata": {
    "collapsed": false
   },
   "outputs": [],
   "source": [
    "y_logit_pred = logistic.predict(df_one_hot_quiz)"
   ]
  },
  {
   "cell_type": "code",
   "execution_count": 23,
   "metadata": {
    "collapsed": false
   },
   "outputs": [
    {
     "data": {
      "text/plain": [
       "31709"
      ]
     },
     "execution_count": 23,
     "metadata": {},
     "output_type": "execute_result"
    }
   ],
   "source": [
    "len(y_logit_pred)"
   ]
  },
  {
   "cell_type": "code",
   "execution_count": null,
   "metadata": {
    "collapsed": false
   },
   "outputs": [],
   "source": [
    "submission_ver = \"007\"\n",
    "path = '/Users/tonatiuh/fmcode/dsi/ml/kaggle/data/'\n",
    "submission_file = 'submission_' + submission_ver + '.csv'\n",
    "f_out = open(path+submission_file, 'w')\n",
    "f_out.write(\"Id,Prediction\\n\")\n",
    "for i in range(1,len(y_logit_pred)+1):\n",
    "    f_out.write(str(i)+','+str(y_logit_pred[i-1])+'\\n')\n",
    "f_out.close()"
   ]
  },
  {
   "cell_type": "code",
   "execution_count": null,
   "metadata": {
    "collapsed": true
   },
   "outputs": [],
   "source": []
  }
 ],
 "metadata": {
  "kernelspec": {
   "display_name": "Python 3",
   "language": "python",
   "name": "python3"
  },
  "language_info": {
   "codemirror_mode": {
    "name": "ipython",
    "version": 3
   },
   "file_extension": ".py",
   "mimetype": "text/x-python",
   "name": "python",
   "nbconvert_exporter": "python",
   "pygments_lexer": "ipython3",
   "version": "3.3.4"
  }
 },
 "nbformat": 4,
 "nbformat_minor": 0
}
