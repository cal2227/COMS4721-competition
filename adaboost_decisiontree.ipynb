{
 "cells": [
  {
   "cell_type": "code",
   "execution_count": 1,
   "metadata": {
    "collapsed": false
   },
   "outputs": [],
   "source": [
    "import pandas as pd\n",
    "import numpy as np\n",
    "from sklearn.ensemble import AdaBoostClassifier\n",
    "from sklearn.tree import DecisionTreeClassifier\n",
    "from sklearn.cross_validation import train_test_split\n",
    "from sklearn.metrics import precision_score, recall_score"
   ]
  },
  {
   "cell_type": "code",
   "execution_count": 2,
   "metadata": {
    "collapsed": true
   },
   "outputs": [],
   "source": [
    "df = pd.read_csv(\"./data/data.csv\")\n",
    "df_quiz = pd.read_csv(\"./data/quiz.csv\")"
   ]
  },
  {
   "cell_type": "code",
   "execution_count": 3,
   "metadata": {
    "collapsed": true
   },
   "outputs": [],
   "source": [
    "df_y = df['label'].copy()\n",
    "del df['label']...,,,,,,,,,,,,"
   ]
  },
  {
   "cell_type": "code",
   "execution_count": 4,
   "metadata": {
    "collapsed": true
   },
   "outputs": [],
   "source": [
    "cols_to_delete = ['18','25','29', '31', '32', '35', '23', '26', '58']\n",
    "for col in cols_to_delete:\n",
    "    del df[col]\n",
    "    del df_quiz[col]"
   ]
  },
  {
   "cell_type": "code",
   "execution_count": 5,
   "metadata": {
    "collapsed": true
   },
   "outputs": [],
   "source": [
    "# Define categorical columns\n",
    "categorical_cols_enhanced = list(df.columns)\n",
    "\n",
    "# Remove purely numeric columns\n",
    "categorical_cols_enhanced.remove('59')\n",
    "categorical_cols_enhanced.remove('60')"
   ]
  },
  {
   "cell_type": "code",
   "execution_count": 6,
   "metadata": {
    "collapsed": true
   },
   "outputs": [],
   "source": [
    "# Convert categorical to one-hot sparse column\n",
    "df_one_hot = pd.get_dummies(df, columns=categorical_cols_enhanced)"
   ]
  },
  {
   "cell_type": "code",
   "execution_count": 7,
   "metadata": {
    "collapsed": false
   },
   "outputs": [],
   "source": [
    "df_one_hot_quiz = pd.get_dummies(df_quiz, columns=categorical_cols_enhanced)\n",
    "\n",
    "col_to_add = np.setdiff1d(df_one_hot.columns, df_one_hot_quiz.columns)\n",
    "for c in col_to_add:\n",
    "    df_one_hot_quiz[c] = 0\n",
    "\n",
    "df_one_hot_quiz = df_one_hot_quiz[df_one_hot.columns]"
   ]
  },
  {
   "cell_type": "code",
   "execution_count": 8,
   "metadata": {
    "collapsed": false
   },
   "outputs": [],
   "source": [
    "X_train, X_test, y_train, y_test = train_test_split(df_one_hot, df_y, random_state=1, train_size=0.6)\n",
    "# X_train, y_train = df_one_hot, df_y"
   ]
  },
  {
   "cell_type": "code",
   "execution_count": 9,
   "metadata": {
    "collapsed": true
   },
   "outputs": [],
   "source": [
    "def get_predictions(cls, test_features):\n",
    "    predicted = cls.predict(test_features)\n",
    "    predicted_probs = cls.predict_proba(test_features).transpose()[1]\n",
    "    predicted = pd.Series(predicted, index=test_features.index)\n",
    "    predicted.name = 'predicted'\n",
    "    return predicted, predicted_probs"
   ]
  },
  {
   "cell_type": "code",
   "execution_count": 10,
   "metadata": {
    "collapsed": true
   },
   "outputs": [],
   "source": [
    "def run(cls):\n",
    "    cls.fit(X_train, y_train)\n",
    "    print (cls)\n",
    "    test_preds, _ = get_predictions(cls, X_test)\n",
    "    train_preds, _ = get_predictions(cls, X_train)\n",
    "    \n",
    "    print ('train accuracy:', cls.score(X_train, y_train))\n",
    "    print ('train precision:', precision_score(y_train, train_preds))\n",
    "    print ('train recall:', recall_score(y_train, train_preds))\n",
    "    \n",
    "    print ('test accuracy:', cls.score(X_test, y_test))\n",
    "    print ('test precision:', precision_score(y_test, test_preds))\n",
    "    print ('test recall:', recall_score(y_test, test_preds))"
   ]
  },
  {
   "cell_type": "code",
   "execution_count": 11,
   "metadata": {
    "collapsed": false
   },
   "outputs": [],
   "source": [
    "cls = AdaBoostClassifier(random_state=1, base_estimator=DecisionTreeClassifier(max_depth=2),\n",
    "                         n_estimators=200)"
   ]
  },
  {
   "cell_type": "code",
   "execution_count": 12,
   "metadata": {
    "collapsed": false,
    "scrolled": true
   },
   "outputs": [
    {
     "name": "stdout",
     "output_type": "stream",
     "text": [
      "AdaBoostClassifier(algorithm='SAMME.R',\n",
      "          base_estimator=DecisionTreeClassifier(class_weight=None, criterion='gini', max_depth=2,\n",
      "            max_features=None, max_leaf_nodes=None, min_samples_leaf=1,\n",
      "            min_samples_split=2, min_weight_fraction_leaf=0.0,\n",
      "            presort=False, random_state=None, splitter='best'),\n",
      "          learning_rate=1.0, n_estimators=200, random_state=1)\n",
      "train accuracy: 0.913642217025\n",
      "train precision: 0.906849232074\n",
      "train recall: 0.89540274579\n",
      "test accuracy: 0.907696856214\n",
      "test precision: 0.895708560364\n",
      "test recall: 0.893656213496\n"
     ]
    }
   ],
   "source": [
    "run(cls)"
   ]
  },
  {
   "cell_type": "code",
   "execution_count": 13,
   "metadata": {
    "collapsed": true
   },
   "outputs": [],
   "source": [
    "quiz_preds = cls.predict(df_one_hot_quiz)"
   ]
  },
  {
   "cell_type": "code",
   "execution_count": 14,
   "metadata": {
    "collapsed": false
   },
   "outputs": [],
   "source": [
    "def submission(preds, ver):\n",
    "    with open(\"./submissions/submission_{}.csv\".format(ver), 'w') as f:\n",
    "        f.write(\"Id,Prediction\\n\")\n",
    "        for i, pred in enumerate(preds):\n",
    "            f.write(\"{},{}\\n\".format(i+1,pred))"
   ]
  },
  {
   "cell_type": "code",
   "execution_count": 15,
   "metadata": {
    "collapsed": true
   },
   "outputs": [],
   "source": [
    "#submission(quiz_preds, \"09\")"
   ]
  },
  {
   "cell_type": "markdown",
   "metadata": {},
   "source": [
    "# AdaBoost-DecisionTreeClassifier Results\n",
    "\n",
    "### train_size=0.2\n",
    "### n_estimators=20\n",
    "### max_depth=1\n",
    "AdaBoostClassifier(algorithm='SAMME.R',\n",
    "          base_estimator=DecisionTreeClassifier(class_weight=None, criterion='gini', max_depth=1,\n",
    "            max_features=None, max_leaf_nodes=None, min_samples_leaf=1,\n",
    "            min_samples_split=2, min_weight_fraction_leaf=0.0,\n",
    "            presort=False, random_state=None, splitter='best'),\n",
    "          learning_rate=1.0, n_estimators=20, random_state=1)\n",
    "          \n",
    "train accuracy: 0.855126739465\n",
    "\n",
    "train precision: 0.828982976866\n",
    "\n",
    "train recall: 0.846949696753\n",
    "\n",
    "test accuracy: 0.846870996354\n",
    "\n",
    "test precision: 0.818011999209\n",
    "\n",
    "test recall: 0.836844353515\n",
    "\n",
    "### train_size=0.2\n",
    "### n_estimators=200\n",
    "### max_depth=1\n",
    "AdaBoostClassifier(algorithm='SAMME.R',\n",
    "          base_estimator=DecisionTreeClassifier(class_weight=None, criterion='gini', max_depth=1,\n",
    "            max_features=None, max_leaf_nodes=None, min_samples_leaf=1,\n",
    "            min_samples_split=2, min_weight_fraction_leaf=0.0,\n",
    "            presort=False, random_state=None, splitter='best'),\n",
    "          learning_rate=1.0, n_estimators=200, random_state=1)\n",
    "          \n",
    "train accuracy: 0.892340442307\n",
    "\n",
    "train precision: 0.879259458009\n",
    "\n",
    "train recall: 0.876828398145\n",
    "\n",
    "test accuracy: 0.882704247561\n",
    "\n",
    "test precision: 0.866849845724\n",
    "\n",
    "test recall: 0.865329706153\n",
    "\n",
    "### train_size=0.4\n",
    "### n_estimators=200\n",
    "### max_depth=1\n",
    "AdaBoostClassifier(algorithm='SAMME.R',\n",
    "          base_estimator=DecisionTreeClassifier(class_weight=None, criterion='gini', max_depth=1,\n",
    "            max_features=None, max_leaf_nodes=None, min_samples_leaf=1,\n",
    "            min_samples_split=2, min_weight_fraction_leaf=0.0,\n",
    "            presort=False, random_state=None, splitter='best'),\n",
    "          learning_rate=1.0, n_estimators=200, random_state=1)\n",
    "          \n",
    "train accuracy: 0.889265581267\n",
    "\n",
    "train precision: 0.876271566211\n",
    "\n",
    "train recall: 0.87251795993\n",
    "\n",
    "test accuracy: 0.883539413689\n",
    "\n",
    "test precision: 0.866764803076\n",
    "\n",
    "test recall: 0.866947115385\n",
    "\n",
    "\n",
    "### train_size=0.6\n",
    "### n_estimators=200\n",
    "### max_depth=2\n",
    "AdaBoostClassifier(algorithm='SAMME.R',\n",
    "          base_estimator=DecisionTreeClassifier(class_weight=None, criterion='gini', max_depth=2,\n",
    "            max_features=None, max_leaf_nodes=None, min_samples_leaf=1,\n",
    "            min_samples_split=2, min_weight_fraction_leaf=0.0,\n",
    "            presort=False, random_state=None, splitter='best'),\n",
    "          learning_rate=1.0, n_estimators=200, random_state=1)\n",
    "          \n",
    "train accuracy: 0.913642217025\n",
    "\n",
    "train precision: 0.906849232074\n",
    "\n",
    "train recall: 0.89540274579\n",
    "\n",
    "test accuracy: 0.907696856214\n",
    "\n",
    "test precision: 0.895708560364\n",
    "\n",
    "test recall: 0.893656213496\n"
   ]
  },
  {
   "cell_type": "code",
   "execution_count": null,
   "metadata": {
    "collapsed": true
   },
   "outputs": [],
   "source": []
  }
 ],
 "metadata": {
  "kernelspec": {
   "display_name": "Python 3",
   "language": "python",
   "name": "python3"
  },
  "language_info": {
   "codemirror_mode": {
    "name": "ipython",
    "version": 3
   },
   "file_extension": ".py",
   "mimetype": "text/x-python",
   "name": "python",
   "nbconvert_exporter": "python",
   "pygments_lexer": "ipython3",
   "version": "3.3.4"
  }
 },
 "nbformat": 4,
 "nbformat_minor": 0
}
