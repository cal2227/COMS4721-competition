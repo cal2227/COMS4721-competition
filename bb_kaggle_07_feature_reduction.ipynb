{
 "cells": [
  {
   "cell_type": "code",
   "execution_count": 1,
   "metadata": {
    "collapsed": true
   },
   "outputs": [],
   "source": [
    "import pandas as pd\n",
    "import numpy as np\n",
    "from sklearn.ensemble import AdaBoostClassifier\n",
    "from sklearn.tree import DecisionTreeClassifier\n",
    "from time import time"
   ]
  },
  {
   "cell_type": "code",
   "execution_count": 2,
   "metadata": {
    "collapsed": false,
    "scrolled": true
   },
   "outputs": [
    {
     "name": "stderr",
     "output_type": "stream",
     "text": [
      "/Users/tonatiuh/anaconda2/lib/python2.7/site-packages/matplotlib/font_manager.py:273: UserWarning: Matplotlib is building the font cache using fc-list. This may take a moment.\n",
      "  warnings.warn('Matplotlib is building the font cache using fc-list. This may take a moment.')\n"
     ]
    }
   ],
   "source": [
    "%matplotlib inline"
   ]
  },
  {
   "cell_type": "code",
   "execution_count": 3,
   "metadata": {
    "collapsed": false
   },
   "outputs": [],
   "source": [
    "# Read data, use your own path\n",
    "df = pd.read_csv(\"../data/data.csv\")\n",
    "df_quiz = pd.read_csv(\"../data/quiz.csv\")"
   ]
  },
  {
   "cell_type": "code",
   "execution_count": 4,
   "metadata": {
    "collapsed": false
   },
   "outputs": [
    {
     "name": "stdout",
     "output_type": "stream",
     "text": [
      "(126837, 53) (31709, 52)\n"
     ]
    }
   ],
   "source": [
    "# Data shape\n",
    "print df.shape, df_quiz.shape"
   ]
  },
  {
   "cell_type": "code",
   "execution_count": 5,
   "metadata": {
    "collapsed": false
   },
   "outputs": [],
   "source": [
    "# Separate labels from input vectors\n",
    "df_y = df['label'].copy()\n",
    "del df['label']"
   ]
  },
  {
   "cell_type": "code",
   "execution_count": 6,
   "metadata": {
    "collapsed": false
   },
   "outputs": [],
   "source": [
    "# Delete columns that have no variance (all 0's or all 1's)\n",
    "cols_to_delete = ['18','25','29', '31', '32', '35', '23', '26', '58']\n",
    "for col in cols_to_delete:\n",
    "    del df[col]\n",
    "    del df_quiz[col]"
   ]
  },
  {
   "cell_type": "code",
   "execution_count": 7,
   "metadata": {
    "collapsed": false
   },
   "outputs": [
    {
     "name": "stdout",
     "output_type": "stream",
     "text": [
      "43\n"
     ]
    }
   ],
   "source": [
    "# Get list of remaining columns\n",
    "df_cols = list(df.columns.values)\n",
    "print len(df_cols)"
   ]
  },
  {
   "cell_type": "code",
   "execution_count": 8,
   "metadata": {
    "collapsed": true
   },
   "outputs": [],
   "source": [
    "# Holds the unique values for each column, will be used later on for sparsifying the quiz data\n",
    "df_cols_dict = {}"
   ]
  },
  {
   "cell_type": "code",
   "execution_count": 9,
   "metadata": {
    "collapsed": false
   },
   "outputs": [
    {
     "name": "stdout",
     "output_type": "stream",
     "text": [
      "*****column:  0\n",
      "def        59038\n",
      "indef      25712\n",
      "null       20714\n",
      "pro        10182\n",
      "dctc        3589\n",
      "poss        2751\n",
      "el          2037\n",
      "dem         1453\n",
      "numpro       564\n",
      "num          435\n",
      "relpro       175\n",
      "demnum        94\n",
      "posspro       93\n",
      "dtype: int64\n",
      "*****column:  2\n",
      "0    126297\n",
      "1       540\n",
      "dtype: int64\n",
      "*****column:  5\n",
      "dobj                    36616\n",
      "prep_of                 14731\n",
      "nsubj                   12404\n",
      "root                     8131\n",
      "pobj                     6863\n",
      "prep_to                  4590\n",
      "nn                       3789\n",
      "dep                      3766\n",
      "prep_above               3447\n",
      "prep_below               3044\n",
      "prep_from                2278\n",
      "conj_and                 2262\n",
      "prep_underneath          2262\n",
      "prep_towards             1992\n",
      "prep_at                  1313\n",
      "ccomp                    1236\n",
      "prep_between             1129\n",
      "prep_with                1074\n",
      "prep_past                1070\n",
      "prep_in                  1042\n",
      "prep_under                927\n",
      "advmod                    890\n",
      "xcomp                     778\n",
      "amod                      759\n",
      "rcmod                     673\n",
      "tmod                      612\n",
      "prep_over                 599\n",
      "npadvmod                  582\n",
      "det                       459\n",
      "prep_as                   404\n",
      "                        ...  \n",
      "csubj                      20\n",
      "prep_outside               19\n",
      "prepc_under                17\n",
      "prep_onto                  16\n",
      "prep_far_from              13\n",
      "prep_opposite              12\n",
      "conj_just                  12\n",
      "prep_because               10\n",
      "prep_until                  9\n",
      "prepc_to                    8\n",
      "prep_outside_of             8\n",
      "prep_within                 7\n",
      "prep_instead_of             7\n",
      "iobj                        7\n",
      "prep_toward                 7\n",
      "prepc_beneath               7\n",
      "cc                          6\n",
      "aux                         5\n",
      "prepc_by                    4\n",
      "prep_with_respect_to        4\n",
      "prep_in_front_of            4\n",
      "rel                         3\n",
      "prep_alongside              3\n",
      "acomp                       2\n",
      "prepc_with                  2\n",
      "prep_ahead_of               2\n",
      "prepc_towards               2\n",
      "quantmod                    2\n",
      "predet                      1\n",
      "prep_where's                1\n",
      "dtype: int64\n",
      "*****column:  7\n",
      "g    82782\n",
      "f    44055\n",
      "dtype: int64\n",
      "*****column:  8\n",
      "query_yn       32863\n",
      "instruct       25089\n",
      "explain        23569\n",
      "check          13523\n",
      "align           8958\n",
      "reply_w         8301\n",
      "clarify         7708\n",
      "query_w         2774\n",
      "reply_y         1946\n",
      "acknowledge     1627\n",
      "reply_n          419\n",
      "uncodable         58\n",
      "ready              2\n",
      "dtype: int64\n",
      "*****column:  9\n",
      "def        66398\n",
      "indef      19072\n",
      "null       16280\n",
      "pro        12939\n",
      "dctc        4769\n",
      "el          3057\n",
      "poss        1988\n",
      "dem          794\n",
      "numpro       649\n",
      "num          366\n",
      "relpro       339\n",
      "demnum       107\n",
      "posspro       79\n",
      "dtype: int64\n",
      "*****column:  11\n",
      "0    126487\n",
      "1       350\n",
      "dtype: int64\n",
      "*****column:  14\n",
      "dobj                    26883\n",
      "prep_of                 15234\n",
      "prep_at                 11979\n",
      "nsubj                   11184\n",
      "root                     9630\n",
      "nn                       7640\n",
      "prep_above               7243\n",
      "pobj                     5719\n",
      "dep                      3521\n",
      "prep_from                2754\n",
      "prep_to                  2677\n",
      "prep_below               2345\n",
      "prep_underneath          1812\n",
      "advmod                   1547\n",
      "prep_past                1345\n",
      "conj_and                 1120\n",
      "prep_with                1114\n",
      "ccomp                    1073\n",
      "prep_towards              922\n",
      "prep_between              715\n",
      "prep_under                646\n",
      "amod                      633\n",
      "prep_over                 569\n",
      "xcomp                     518\n",
      "prep_in                   505\n",
      "det                       468\n",
      "rcmod                     434\n",
      "prep_as                   400\n",
      "npadvmod                  379\n",
      "na                        368\n",
      "                        ...  \n",
      "predet                     13\n",
      "prepc_to                   13\n",
      "prep_opposite              13\n",
      "prep_outside_of            12\n",
      "attr                       12\n",
      "prep_alongside             12\n",
      "prep_it's                  12\n",
      "prepc_under                10\n",
      "prep_inside                10\n",
      "conj_negcc                  9\n",
      "prep_apart_from             9\n",
      "prep_instead_of             8\n",
      "prep_toward                 7\n",
      "prep_with_respect_to        7\n",
      "prep_that's                 7\n",
      "prep_within                 7\n",
      "prep_ahead_of               7\n",
      "cc                          6\n",
      "prepc_by                    6\n",
      "conj_just                   5\n",
      "prep_following              5\n",
      "prepc_with                  4\n",
      "prep_if                     3\n",
      "acomp                       2\n",
      "prep_because_of             2\n",
      "prep_because                2\n",
      "prepc_beneath               2\n",
      "prep_where's                2\n",
      "aux                         2\n",
      "quantmod                    1\n",
      "dtype: int64\n",
      "*****column:  16\n",
      "g    96218\n",
      "f    30619\n",
      "dtype: int64\n",
      "*****column:  17\n",
      "instruct       38108\n",
      "query_yn       25229\n",
      "explain        21547\n",
      "align          11818\n",
      "check           9452\n",
      "clarify         6644\n",
      "reply_w         5833\n",
      "acknowledge     2798\n",
      "query_w         2552\n",
      "reply_y         2046\n",
      "reply_n          760\n",
      "uncodable         40\n",
      "ready             10\n",
      "dtype: int64\n",
      "*****column:  20\n",
      "0_0    125967\n",
      "1_0       520\n",
      "0_1       330\n",
      "1_1        20\n",
      "dtype: int64\n",
      "*****column:  27\n",
      "0    94035\n",
      "1    32802\n",
      "dtype: int64\n",
      "*****column:  28\n",
      "0    86118\n",
      "1    40719\n",
      "dtype: int64\n",
      "*****column:  30\n",
      "1    125987\n",
      "0       850\n",
      "dtype: int64\n",
      "*****column:  33\n",
      "0    114107\n",
      "1     12730\n",
      "dtype: int64\n",
      "*****column:  34\n",
      "1    125987\n",
      "0       850\n",
      "dtype: int64\n",
      "*****column:  36\n",
      "1    74889\n",
      "0    51948\n",
      "dtype: int64\n",
      "*****column:  37\n",
      "0    103701\n",
      "1     23136\n",
      "dtype: int64\n",
      "*****column:  38\n",
      "0    85777\n",
      "1    37336\n",
      "2     3724\n",
      "dtype: int64\n",
      "*****column:  39\n",
      "1    60890\n",
      "0    33674\n",
      "2    32273\n",
      "dtype: int64\n",
      "*****column:  40\n",
      "0    104459\n",
      "1     21635\n",
      "2       743\n",
      "dtype: int64\n",
      "*****column:  41\n",
      "0    124602\n",
      "1      2223\n",
      "2        12\n",
      "dtype: int64\n",
      "*****column:  42\n",
      "0    118574\n",
      "1      8168\n",
      "2        95\n",
      "dtype: int64\n",
      "*****column:  43\n",
      "0    126666\n",
      "1       170\n",
      "2         1\n",
      "dtype: int64\n",
      "*****column:  44\n",
      "0    125648\n",
      "1      1165\n",
      "2        24\n",
      "dtype: int64\n",
      "*****column:  45\n",
      "0    121817\n",
      "1      4946\n",
      "2        74\n",
      "dtype: int64\n",
      "*****column:  46\n",
      "0    126324\n",
      "1       512\n",
      "2         1\n",
      "dtype: int64\n",
      "*****column:  47\n",
      "0    126641\n",
      "1       191\n",
      "2         5\n",
      "dtype: int64\n",
      "*****column:  48\n",
      "0    93517\n",
      "1    29646\n",
      "2     3674\n",
      "dtype: int64\n",
      "*****column:  49\n",
      "0    122171\n",
      "1      4593\n",
      "2        73\n",
      "dtype: int64\n",
      "*****column:  50\n",
      "0    126056\n",
      "1       761\n",
      "2        20\n",
      "dtype: int64\n",
      "*****column:  51\n",
      "0    104402\n",
      "1     21282\n",
      "2      1153\n",
      "dtype: int64\n",
      "*****column:  52\n",
      "0    126088\n",
      "1       749\n",
      "dtype: int64\n",
      "*****column:  53\n",
      "0    126709\n",
      "1       128\n",
      "dtype: int64\n",
      "*****column:  54\n",
      "0    84946\n",
      "1    41891\n",
      "dtype: int64\n",
      "*****column:  55\n",
      "1    103140\n",
      "0     23697\n",
      "dtype: int64\n",
      "*****column:  56\n",
      "root                33388\n",
      "ccomp               23205\n",
      "na                  17660\n",
      "dep                  7151\n",
      "xcomp                3971\n",
      "conj_and             3968\n",
      "dobj                 3879\n",
      "rcmod                3398\n",
      "prep_to              3364\n",
      "pobj                 2949\n",
      "advmod               2419\n",
      "nsubj                2397\n",
      "advcl                2103\n",
      "prep_of              1766\n",
      "pcomp                1564\n",
      "prep_at              1375\n",
      "partmod              1183\n",
      "prep_from             865\n",
      "prep_between          855\n",
      "prep_above            815\n",
      "prep_about            812\n",
      "amod                  636\n",
      "prep_below            556\n",
      "prep_on               523\n",
      "prep_in               510\n",
      "prep                  492\n",
      "prep_with             422\n",
      "prep_over             369\n",
      "conj_or               241\n",
      "prep_past             236\n",
      "                    ...  \n",
      "tmod                   15\n",
      "prep_that              15\n",
      "prep_into              15\n",
      "prep_for               14\n",
      "prepc_about            14\n",
      "prep_a--               12\n",
      "agent                  12\n",
      "prepc_on               11\n",
      "prepc_past             11\n",
      "prepc_beneath          11\n",
      "prepc_as               10\n",
      "prep_that's            10\n",
      "prep_next_to            8\n",
      "prepc_until             7\n",
      "prep_if                 7\n",
      "prepc_instead_of        7\n",
      "nsubjpass               6\n",
      "prep_than               6\n",
      "conj                    5\n",
      "prep_they're            5\n",
      "prepc_over              5\n",
      "prepc_than              4\n",
      "prep_beside             4\n",
      "neg                     4\n",
      "prep_off                4\n",
      "prepc_around            3\n",
      "prep_within             3\n",
      "prep_out                2\n",
      "prep_opposite           1\n",
      "prepc_next_to           1\n",
      "dtype: int64\n",
      "*****column:  57\n",
      "root                47829\n",
      "na                  17660\n",
      "ccomp               13659\n",
      "dobj                 6681\n",
      "dep                  6261\n",
      "prep_to              4029\n",
      "xcomp                2867\n",
      "pobj                 2859\n",
      "nsubj                2324\n",
      "rcmod                2281\n",
      "pcomp                2153\n",
      "advmod               2097\n",
      "prep_at              1964\n",
      "conj_and             1786\n",
      "prep_of              1315\n",
      "advcl                1078\n",
      "prep_from             879\n",
      "partmod               780\n",
      "prep_above            558\n",
      "prep_on               500\n",
      "prep_about            462\n",
      "prep_between          437\n",
      "amod                  426\n",
      "prep_below            419\n",
      "prep                  404\n",
      "prep_with             397\n",
      "prep_in               396\n",
      "prep_over             349\n",
      "conj_or               285\n",
      "prep_starting         261\n",
      "                    ...  \n",
      "prepc_past             15\n",
      "conj_just              15\n",
      "prepc_at               14\n",
      "prep_that              13\n",
      "prep_beside            13\n",
      "prepc_along            13\n",
      "prep_across_from       12\n",
      "prepc_as               10\n",
      "prep_that's             9\n",
      "neg                     9\n",
      "prepc_instead_of        9\n",
      "prepc_around            8\n",
      "prep_opposite           7\n",
      "prepc_next_to           7\n",
      "agent                   6\n",
      "prep_out                6\n",
      "prep_after              6\n",
      "prep_within             6\n",
      "nsubjpass               5\n",
      "prepc_beneath           5\n",
      "prepc_between           5\n",
      "prepc_about             5\n",
      "prep_beyond             4\n",
      "prep_if                 4\n",
      "prepc_with              4\n",
      "prep_a--                4\n",
      "prepc_down              2\n",
      "prepc_than              1\n",
      "prepc_in                1\n",
      "prep_they're            1\n",
      "dtype: int64\n",
      "*****column:  59\n",
      "2.0      3007\n",
      "0.0      2708\n",
      "1.0      2398\n",
      "3.0      2210\n",
      "4.0      1735\n",
      "5.0      1474\n",
      "6.0      1343\n",
      "7.0      1285\n",
      "8.0      1099\n",
      "9.0      1058\n",
      "11.0      983\n",
      "10.0      950\n",
      "13.0      887\n",
      "14.0      872\n",
      "12.0      867\n",
      "15.0      823\n",
      "18.0      807\n",
      "23.0      800\n",
      "17.0      795\n",
      "16.0      780\n",
      "20.0      772\n",
      "21.0      722\n",
      "27.0      700\n",
      "22.0      699\n",
      "31.0      699\n",
      "25.0      696\n",
      "19.0      696\n",
      "26.0      685\n",
      "29.0      679\n",
      "30.0      674\n",
      "         ... \n",
      "106.2       1\n",
      "75.8        1\n",
      "248.1       1\n",
      "440.1       1\n",
      "176.5       1\n",
      "61.8        1\n",
      "76.8        1\n",
      "158.1       1\n",
      "160.8       1\n",
      "64.8        1\n",
      "47.6        1\n",
      "47.5        1\n",
      "51.8        1\n",
      "211.5       1\n",
      "192.3       1\n",
      "23.2        1\n",
      "1.7         1\n",
      "8.8         1\n",
      "143.5       1\n",
      "104.2       1\n",
      "43.5        1\n",
      "170.5       1\n",
      "181.9       1\n",
      "37.2        1\n",
      "113.1       1\n",
      "73.2        1\n",
      "213.5       1\n",
      "235.1       1\n",
      "123.2       1\n",
      "6.6         1\n",
      "dtype: int64\n",
      "*****column:  60\n",
      "1      4188\n",
      "2      3903\n",
      "0      3590\n",
      "4      2321\n",
      "3      2161\n",
      "6      1799\n",
      "5      1595\n",
      "8      1540\n",
      "12     1415\n",
      "10     1411\n",
      "14     1397\n",
      "7      1310\n",
      "16     1278\n",
      "24     1272\n",
      "18     1270\n",
      "9      1177\n",
      "22     1176\n",
      "26     1138\n",
      "28     1136\n",
      "30     1119\n",
      "20     1112\n",
      "32     1068\n",
      "11     1055\n",
      "48     1025\n",
      "13      994\n",
      "36      976\n",
      "34      945\n",
      "46      940\n",
      "44      935\n",
      "40      932\n",
      "       ... \n",
      "347      10\n",
      "388      10\n",
      "419      10\n",
      "310      10\n",
      "307      10\n",
      "289       9\n",
      "358       9\n",
      "369       8\n",
      "435       7\n",
      "319       7\n",
      "293       7\n",
      "304       6\n",
      "368       5\n",
      "343       5\n",
      "297       5\n",
      "408       4\n",
      "281       4\n",
      "332       4\n",
      "345       4\n",
      "370       4\n",
      "363       3\n",
      "407       3\n",
      "295       3\n",
      "386       3\n",
      "367       2\n",
      "303       2\n",
      "379       1\n",
      "328       1\n",
      "339       1\n",
      "391       1\n",
      "dtype: int64\n",
      "*****column:  62\n",
      "0    123247\n",
      "1      3590\n",
      "dtype: int64\n",
      "*****column:  63\n",
      "0    124047\n",
      "1      2790\n",
      "dtype: int64\n",
      "*****column:  64\n",
      "0    126753\n",
      "1        84\n",
      "dtype: int64\n"
     ]
    }
   ],
   "source": [
    "# Print the number of values each column takes and populate df_cols_dict\n",
    "for col in df_cols:\n",
    "    print \"*****column: \", col\n",
    "    print pd.value_counts(df[col].values)\n",
    "    df_cols_dict[col] = pd.value_counts(df[col].values).to_dict().keys()"
   ]
  },
  {
   "cell_type": "code",
   "execution_count": 10,
   "metadata": {
    "collapsed": true
   },
   "outputs": [],
   "source": [
    "# Normalize the continuous columns\n",
    "df['59'] = (df['59'] - df['59'].mean()) /  (df['59'].max() - df['59'].min())\n",
    "df['60'] = (df['60'] - df['60'].mean()) /  (df['60'].max() - df['60'].min())\n",
    "\n",
    "df_quiz['59'] = (df_quiz['59'] - df_quiz['59'].mean()) /  (df_quiz['59'].max() - df_quiz['59'].min())\n",
    "df_quiz['60'] = (df_quiz['60'] - df_quiz['60'].mean()) /  (df_quiz['60'].max() - df_quiz['60'].min())\n"
   ]
  },
  {
   "cell_type": "code",
   "execution_count": 11,
   "metadata": {
    "collapsed": false
   },
   "outputs": [],
   "source": [
    "# Define categorical columns\n",
    "categorical_cols = ['56', '20', '14', '17', '16', '57', '0', '5', '7', '9', '8']\n",
    "num_to_categorical_cols = [str(i) for i in range(38,52)] # numerical columns with [0,1,2] vals, also converting\n",
    "categorical_cols_enhanced = categorical_cols + num_to_categorical_cols  "
   ]
  },
  {
   "cell_type": "code",
   "execution_count": 12,
   "metadata": {
    "collapsed": false
   },
   "outputs": [],
   "source": [
    "# Convert categorical to one-hot sparse column\n",
    "df_one_hot = pd.get_dummies(df, columns=categorical_cols_enhanced)"
   ]
  },
  {
   "cell_type": "code",
   "execution_count": 13,
   "metadata": {
    "collapsed": false
   },
   "outputs": [
    {
     "data": {
      "text/plain": [
       "(126837, 545)"
      ]
     },
     "execution_count": 13,
     "metadata": {},
     "output_type": "execute_result"
    }
   ],
   "source": [
    "df_one_hot.shape"
   ]
  },
  {
   "cell_type": "markdown",
   "metadata": {
    "collapsed": false
   },
   "source": [
    "## Inflating quiz data"
   ]
  },
  {
   "cell_type": "code",
   "execution_count": 14,
   "metadata": {
    "collapsed": false
   },
   "outputs": [
    {
     "name": "stdout",
     "output_type": "stream",
     "text": [
      "inflating row 0\n",
      "inflating row 1000\n",
      "inflating row 2000\n",
      "inflating row 3000\n",
      "inflating row 4000\n",
      "inflating row 5000\n",
      "inflating row 6000\n",
      "inflating row 7000\n",
      "inflating row 8000\n",
      "inflating row 9000\n",
      "inflating row 10000\n",
      "inflating row 11000\n",
      "inflating row 12000\n",
      "inflating row 13000\n",
      "inflating row 14000\n",
      "inflating row 15000\n",
      "inflating row 16000\n",
      "inflating row 17000\n",
      "inflating row 18000\n",
      "inflating row 19000\n",
      "inflating row 20000\n",
      "inflating row 21000\n",
      "inflating row 22000\n",
      "inflating row 23000\n",
      "inflating row 24000\n",
      "inflating row 25000\n",
      "inflating row 26000\n",
      "inflating row 27000\n",
      "inflating row 28000\n",
      "inflating row 29000\n",
      "inflating row 30000\n",
      "inflating row 31000\n",
      "31709\n"
     ]
    }
   ],
   "source": [
    "# list of dicts with inflated data, will be used to construct quiz dataframe\n",
    "quiz_raw_data = []\n",
    "\n",
    "# different column types, will be inflated differently \n",
    "cols_set = set(df_cols)\n",
    "cols_categ_set = set(categorical_cols_enhanced)\n",
    "cols_num_set = cols_set - cols_categ_set\n",
    "cols_num_to_categ = set(num_to_categorical_cols)\n",
    "\n",
    "# Sanity check\n",
    "if len(set.union(cols_num_set,cols_categ_set)) != len(cols_set):\n",
    "    raise RuntimeError\n",
    "\n",
    "for i in range(len(df_quiz)):\n",
    "    if i%1000 == 0:\n",
    "        print \"inflating row\", i\n",
    "    x = df_quiz.iloc[i].to_dict()\n",
    "    x_inflated = {}\n",
    "    for k,v in x.items():\n",
    "        if k in cols_num_set:\n",
    "            x_inflated[k] = v\n",
    "        elif k in cols_num_to_categ:\n",
    "            for k2 in ['0.0','1.0','2.0']:\n",
    "                inflated_col = k + \"_\" + k2\n",
    "                x_inflated[inflated_col] = 0\n",
    "            x_inflated[k + \"_\" + str(v)] = 1\n",
    "        else:\n",
    "            for k2 in df_cols_dict[k]:\n",
    "                inflated_col = k + \"_\" + k2\n",
    "                if v == k2:\n",
    "                    x_inflated[inflated_col] = 1.0 \n",
    "                else:\n",
    "                    x_inflated[inflated_col] = 0.0\n",
    "                    \n",
    "    quiz_raw_data.append(x_inflated)\n",
    "            \n",
    "print len(quiz_raw_data)    "
   ]
  },
  {
   "cell_type": "code",
   "execution_count": 15,
   "metadata": {
    "collapsed": true
   },
   "outputs": [],
   "source": [
    "df_cols_inflated = list(df_one_hot.columns.values)"
   ]
  },
  {
   "cell_type": "code",
   "execution_count": 16,
   "metadata": {
    "collapsed": false
   },
   "outputs": [],
   "source": [
    "#print df_cols_inflated"
   ]
  },
  {
   "cell_type": "code",
   "execution_count": 17,
   "metadata": {
    "collapsed": true
   },
   "outputs": [],
   "source": [
    "df_one_hot_quiz = pd.DataFrame(data=quiz_raw_data, columns=df_cols_inflated)"
   ]
  },
  {
   "cell_type": "code",
   "execution_count": 18,
   "metadata": {
    "collapsed": false
   },
   "outputs": [],
   "source": [
    "#df_one_hot_quiz.describe()"
   ]
  },
  {
   "cell_type": "code",
   "execution_count": 19,
   "metadata": {
    "collapsed": true
   },
   "outputs": [],
   "source": [
    "df_one_hot_quiz.to_csv('/Users/tonatiuh/fmcode/dsi/ml/kaggle/data/quiz_inflated.csv.gz', compression='gzip')"
   ]
  },
  {
   "cell_type": "markdown",
   "metadata": {
    "collapsed": true
   },
   "source": [
    "## Logistic Regression"
   ]
  },
  {
   "cell_type": "code",
   "execution_count": 20,
   "metadata": {
    "collapsed": true
   },
   "outputs": [],
   "source": [
    "from sklearn.linear_model import LogisticRegression"
   ]
  },
  {
   "cell_type": "code",
   "execution_count": 21,
   "metadata": {
    "collapsed": true
   },
   "outputs": [],
   "source": [
    "logistic = LogisticRegression(penalty='l2', C=1000, \n",
    "                              fit_intercept=True, intercept_scaling=1, \n",
    "                              class_weight='balanced',\n",
    "                              tol=0.0001,\n",
    "                              n_jobs=-1,\n",
    "                              verbose=1)"
   ]
  },
  {
   "cell_type": "code",
   "execution_count": 22,
   "metadata": {
    "collapsed": false
   },
   "outputs": [
    {
     "name": "stdout",
     "output_type": "stream",
     "text": [
      "[LibLinear]"
     ]
    },
    {
     "data": {
      "text/plain": [
       "LogisticRegression(C=1000, class_weight='balanced', dual=False,\n",
       "          fit_intercept=True, intercept_scaling=1, max_iter=100,\n",
       "          multi_class='ovr', n_jobs=-1, penalty='l2', random_state=None,\n",
       "          solver='liblinear', tol=0.0001, verbose=1, warm_start=False)"
      ]
     },
     "execution_count": 22,
     "metadata": {},
     "output_type": "execute_result"
    }
   ],
   "source": [
    "logistic.fit(df_one_hot, df_y)"
   ]
  },
  {
   "cell_type": "code",
   "execution_count": 23,
   "metadata": {
    "collapsed": false
   },
   "outputs": [
    {
     "data": {
      "text/plain": [
       "0.88806893887430327"
      ]
     },
     "execution_count": 23,
     "metadata": {},
     "output_type": "execute_result"
    }
   ],
   "source": [
    "logistic.score(df_one_hot, df_y)"
   ]
  },
  {
   "cell_type": "code",
   "execution_count": 24,
   "metadata": {
    "collapsed": false
   },
   "outputs": [],
   "source": [
    "y_logit_pred = logistic.predict(df_one_hot_quiz)"
   ]
  },
  {
   "cell_type": "code",
   "execution_count": 25,
   "metadata": {
    "collapsed": false
   },
   "outputs": [
    {
     "data": {
      "text/plain": [
       "31709"
      ]
     },
     "execution_count": 25,
     "metadata": {},
     "output_type": "execute_result"
    }
   ],
   "source": [
    "len(y_logit_pred)"
   ]
  },
  {
   "cell_type": "code",
   "execution_count": 26,
   "metadata": {
    "collapsed": false
   },
   "outputs": [],
   "source": [
    "submission_ver = \"007\"\n",
    "path = '/Users/tonatiuh/fmcode/dsi/ml/kaggle/data/'\n",
    "submission_file = 'submission_' + submission_ver + '.csv'\n",
    "f_out = open(path+submission_file, 'w')\n",
    "f_out.write(\"Id,Prediction\\n\")\n",
    "for i in range(1,len(y_logit_pred)+1):\n",
    "    f_out.write(str(i)+','+str(y_logit_pred[i-1])+'\\n')\n",
    "f_out.close()"
   ]
  },
  {
   "cell_type": "code",
   "execution_count": null,
   "metadata": {
    "collapsed": true
   },
   "outputs": [],
   "source": []
  }
 ],
 "metadata": {
  "kernelspec": {
   "display_name": "Python 2",
   "language": "python",
   "name": "python2"
  },
  "language_info": {
   "codemirror_mode": {
    "name": "ipython",
    "version": 2
   },
   "file_extension": ".py",
   "mimetype": "text/x-python",
   "name": "python",
   "nbconvert_exporter": "python",
   "pygments_lexer": "ipython2",
   "version": "2.7.11"
  }
 },
 "nbformat": 4,
 "nbformat_minor": 0
}
