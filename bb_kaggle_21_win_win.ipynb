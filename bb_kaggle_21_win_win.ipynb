{
 "cells": [
  {
   "cell_type": "code",
   "execution_count": null,
   "metadata": {
    "collapsed": true
   },
   "outputs": [],
   "source": [
    "import pandas as pd\n",
    "import numpy as np\n",
    "from sklearn.ensemble import AdaBoostClassifier\n",
    "from sklearn.tree import DecisionTreeClassifier\n",
    "from sklearn.ensemble import RandomForestClassifier\n",
    "from sklearn import svm\n",
    "from sklearn.cross_validation import train_test_split\n",
    "from sklearn.metrics import precision_score, recall_score\n",
    "from time import time"
   ]
  },
  {
   "cell_type": "code",
   "execution_count": null,
   "metadata": {
    "collapsed": false,
    "scrolled": true
   },
   "outputs": [],
   "source": [
    "%matplotlib inline"
   ]
  },
  {
   "cell_type": "code",
   "execution_count": null,
   "metadata": {
    "collapsed": false
   },
   "outputs": [],
   "source": [
    "# Read data, use your own path\n",
    "df = pd.read_csv(\"../data/data.csv\")\n",
    "df_quiz = pd.read_csv(\"../data/quiz.csv\")"
   ]
  },
  {
   "cell_type": "code",
   "execution_count": null,
   "metadata": {
    "collapsed": false
   },
   "outputs": [],
   "source": [
    "# Data shape\n",
    "print df.shape, df_quiz.shape"
   ]
  },
  {
   "cell_type": "code",
   "execution_count": null,
   "metadata": {
    "collapsed": false
   },
   "outputs": [],
   "source": [
    "# Separate labels from input vectors\n",
    "df_y = df['label'].copy()\n",
    "del df['label']"
   ]
  },
  {
   "cell_type": "code",
   "execution_count": null,
   "metadata": {
    "collapsed": false
   },
   "outputs": [],
   "source": [
    "df.describe()"
   ]
  },
  {
   "cell_type": "code",
   "execution_count": null,
   "metadata": {
    "collapsed": false
   },
   "outputs": [],
   "source": [
    "# Delete columns that have no variance (all 0's or all 1's)\n",
    "cols_to_delete = ['18','25','29', '31', '32', '35', '23', '26', '58']  \n",
    "for col in cols_to_delete:\n",
    "    del df[col]\n",
    "    del df_quiz[col]"
   ]
  },
  {
   "cell_type": "code",
   "execution_count": null,
   "metadata": {
    "collapsed": false
   },
   "outputs": [],
   "source": [
    "# Get list of remaining columns\n",
    "df_cols = list(df.columns.values)\n",
    "print len(df_cols)"
   ]
  },
  {
   "cell_type": "code",
   "execution_count": null,
   "metadata": {
    "collapsed": true
   },
   "outputs": [],
   "source": [
    "# Holds the unique values for each column, will be used later on for sparsifying the quiz data\n",
    "df_cols_dict = {}"
   ]
  },
  {
   "cell_type": "code",
   "execution_count": null,
   "metadata": {
    "collapsed": false
   },
   "outputs": [],
   "source": [
    "# Print the number of values each column takes and populate df_cols_dict\n",
    "for col in df_cols:\n",
    "    print \"*****column: \", col\n",
    "    print pd.value_counts(df[col].values)\n",
    "    df_cols_dict[col] = pd.value_counts(df[col].values).to_dict().keys()"
   ]
  },
  {
   "cell_type": "code",
   "execution_count": null,
   "metadata": {
    "collapsed": true
   },
   "outputs": [],
   "source": [
    "# Normalize the continuous columns\n",
    "##df['59'] = (df['59'] - df['59'].mean()) /  (df['59'].max() - df['59'].min())\n",
    "##df['60'] = (df['60'] - df['60'].mean()) /  (df['60'].max() - df['60'].min())\n",
    "\n",
    "##df_quiz['59'] = (df_quiz['59'] - df_quiz['59'].mean()) /  (df_quiz['59'].max() - df_quiz['59'].min())\n",
    "##df_quiz['60'] = (df_quiz['60'] - df_quiz['60'].mean()) /  (df_quiz['60'].max() - df_quiz['60'].min())\n"
   ]
  },
  {
   "cell_type": "code",
   "execution_count": null,
   "metadata": {
    "collapsed": false
   },
   "outputs": [],
   "source": [
    "# Define categorical columns\n",
    "categorical_cols = ['56', '20', '14', '17', '16', '57', '0', '5', '7', '9', '8']\n",
    "num_to_categorical_cols = [str(i) for i in range(38,52)] # numerical columns with [0,1,2] vals, also converting\n",
    "categorical_cols_enhanced = categorical_cols + num_to_categorical_cols  "
   ]
  },
  {
   "cell_type": "code",
   "execution_count": null,
   "metadata": {
    "collapsed": false
   },
   "outputs": [],
   "source": [
    "# Convert categorical to one-hot sparse column\n",
    "df_one_hot = pd.get_dummies(df, columns=categorical_cols_enhanced)"
   ]
  },
  {
   "cell_type": "code",
   "execution_count": null,
   "metadata": {
    "collapsed": false
   },
   "outputs": [],
   "source": [
    "df_one_hot.shape"
   ]
  },
  {
   "cell_type": "markdown",
   "metadata": {
    "collapsed": false
   },
   "source": [
    "## Inflating quiz data"
   ]
  },
  {
   "cell_type": "code",
   "execution_count": null,
   "metadata": {
    "collapsed": false
   },
   "outputs": [],
   "source": [
    "# list of dicts with inflated data, will be used to construct quiz dataframe\n",
    "quiz_raw_data = []\n",
    "\n",
    "# different column types, will be inflated differently \n",
    "cols_set = set(df_cols)\n",
    "cols_categ_set = set(categorical_cols_enhanced)\n",
    "cols_num_set = cols_set - cols_categ_set\n",
    "cols_num_to_categ = set(num_to_categorical_cols)\n",
    "\n",
    "# Sanity check\n",
    "if len(set.union(cols_num_set,cols_categ_set)) != len(cols_set):\n",
    "    raise RuntimeError\n",
    "\n",
    "for i in range(len(df_quiz)):\n",
    "    if i%1000 == 0:\n",
    "        print \"inflating row\", i\n",
    "    x = df_quiz.iloc[i].to_dict()\n",
    "    x_inflated = {}\n",
    "    for k,v in x.items():\n",
    "        if k in cols_num_set:\n",
    "            x_inflated[k] = v\n",
    "        elif k in cols_num_to_categ:\n",
    "            for k2 in ['0.0','1.0','2.0']:\n",
    "                inflated_col = k + \"_\" + k2\n",
    "                x_inflated[inflated_col] = 0\n",
    "            x_inflated[k + \"_\" + str(v)] = 1\n",
    "        else:\n",
    "            for k2 in df_cols_dict[k]:\n",
    "                inflated_col = k + \"_\" + k2\n",
    "                if v == k2:\n",
    "                    x_inflated[inflated_col] = 1.0 \n",
    "                else:\n",
    "                    x_inflated[inflated_col] = 0.0\n",
    "                    \n",
    "    quiz_raw_data.append(x_inflated)\n",
    "            \n",
    "print len(quiz_raw_data)    "
   ]
  },
  {
   "cell_type": "code",
   "execution_count": null,
   "metadata": {
    "collapsed": true
   },
   "outputs": [],
   "source": [
    "df_cols_inflated = list(df_one_hot.columns.values)"
   ]
  },
  {
   "cell_type": "code",
   "execution_count": null,
   "metadata": {
    "collapsed": false
   },
   "outputs": [],
   "source": [
    "print df_cols_inflated"
   ]
  },
  {
   "cell_type": "code",
   "execution_count": null,
   "metadata": {
    "collapsed": true
   },
   "outputs": [],
   "source": [
    "df_one_hot_quiz = pd.DataFrame(data=quiz_raw_data, columns=df_cols_inflated)"
   ]
  },
  {
   "cell_type": "code",
   "execution_count": null,
   "metadata": {
    "collapsed": false
   },
   "outputs": [],
   "source": [
    "#df_one_hot_quiz.describe()"
   ]
  },
  {
   "cell_type": "code",
   "execution_count": null,
   "metadata": {
    "collapsed": true
   },
   "outputs": [],
   "source": [
    "#df_one_hot_quiz.to_csv('/Users/tonatiuh/fmcode/dsi/ml/kaggle/data/quiz_inflated.csv.gz', compression='gzip')"
   ]
  },
  {
   "cell_type": "code",
   "execution_count": null,
   "metadata": {
    "collapsed": true
   },
   "outputs": [],
   "source": [
    "def get_predictions(cls, test_features):\n",
    "    predicted = cls.predict(test_features)\n",
    "    predicted_probs = cls.predict_proba(test_features).transpose()[1]\n",
    "    predicted = pd.Series(predicted, index=test_features.index)\n",
    "    predicted.name = 'predicted'\n",
    "    return predicted, predicted_probs"
   ]
  },
  {
   "cell_type": "code",
   "execution_count": null,
   "metadata": {
    "collapsed": true
   },
   "outputs": [],
   "source": [
    "def run_rfc(rfc):\n",
    "    rfc.fit(X_train, y_train)\n",
    "    print (rfc)\n",
    "    test_preds, _ = get_predictions(rfc, X_test)\n",
    "    train_preds, _ = get_predictions(rfc, X_train)\n",
    "    \n",
    "    print ('train accuracy:', rfc.score(X_train, y_train))\n",
    "    print ('train precision:', precision_score(y_train, train_preds))\n",
    "    print ('train recall:', recall_score(y_train, train_preds))\n",
    "    \n",
    "    print ('test accuracy:', rfc.score(X_test, y_test))\n",
    "    print ('test precision:', precision_score(y_test, test_preds))\n",
    "    print ('test recall:', recall_score(y_test, test_preds))"
   ]
  },
  {
   "cell_type": "code",
   "execution_count": null,
   "metadata": {
    "collapsed": false
   },
   "outputs": [],
   "source": [
    "#X_train, X_test, y_train, y_test = train_test_split(df_one_hot, df_y, random_state=1, train_size=1.0)\n",
    "# X_train, y_train = df_one_hot, df_y"
   ]
  },
  {
   "cell_type": "markdown",
   "metadata": {},
   "source": [
    "# Random Forest"
   ]
  },
  {
   "cell_type": "code",
   "execution_count": null,
   "metadata": {
    "collapsed": true
   },
   "outputs": [],
   "source": [
    "rfc = RandomForestClassifier(random_state=1, n_estimators=40, )"
   ]
  },
  {
   "cell_type": "code",
   "execution_count": null,
   "metadata": {
    "collapsed": false
   },
   "outputs": [],
   "source": [
    "run_rfc(rfc)"
   ]
  },
  {
   "cell_type": "code",
   "execution_count": null,
   "metadata": {
    "collapsed": false
   },
   "outputs": [],
   "source": [
    "print rfc.feature_importances_"
   ]
  },
  {
   "cell_type": "code",
   "execution_count": null,
   "metadata": {
    "collapsed": false
   },
   "outputs": [],
   "source": [
    "print len(rfc.feature_importances_)"
   ]
  },
  {
   "cell_type": "code",
   "execution_count": null,
   "metadata": {
    "collapsed": false
   },
   "outputs": [],
   "source": [
    "rfc.fit(df_one_hot, df_y,)"
   ]
  },
  {
   "cell_type": "code",
   "execution_count": null,
   "metadata": {
    "collapsed": true
   },
   "outputs": [],
   "source": [
    "submission_ver = \"1000\"\n",
    "path = '/Users/tonatiuh/fmcode/dsi/ml/kaggle/data/'\n",
    "submission_file = 'submission_' + submission_ver + '.csv'\n",
    "f_out = open(path+submission_file, 'w')\n",
    "f_out.write(\"Id,Prediction\\n\")\n",
    "for i in range(1,len(y_svm_pred)+1):\n",
    "    f_out.write(str(i)+','+str(y_svm_pred[i-1])+'\\n')\n",
    "f_out.close()"
   ]
  },
  {
   "cell_type": "code",
   "execution_count": null,
   "metadata": {
    "collapsed": true
   },
   "outputs": [],
   "source": []
  },
  {
   "cell_type": "code",
   "execution_count": null,
   "metadata": {
    "collapsed": true
   },
   "outputs": [],
   "source": []
  }
 ],
 "metadata": {
  "kernelspec": {
   "display_name": "Python 2",
   "language": "python",
   "name": "python2"
  },
  "language_info": {
   "codemirror_mode": {
    "name": "ipython",
    "version": 2
   },
   "file_extension": ".py",
   "mimetype": "text/x-python",
   "name": "python",
   "nbconvert_exporter": "python",
   "pygments_lexer": "ipython2",
   "version": "2.7.11"
  }
 },
 "nbformat": 4,
 "nbformat_minor": 0
}
